{
 "cells": [
  {
   "attachments": {},
   "cell_type": "markdown",
   "metadata": {},
   "source": [
    "\n",
    "Ejercicio 1) Construir una función que permita calcular el volumen de un cilindro, el programa debe permitir que el usuario pueda ingresar la altura y el radio, si uno de estos valores es negativo debe ser notificado por pantalla del error cometido ."
   ]
  },
  {
   "cell_type": "code",
   "execution_count": 2,
   "metadata": {},
   "outputs": [
    {
     "name": "stdout",
     "output_type": "stream",
     "text": [
      "El volumen del cilindro es:  423.90000000000003\n"
     ]
    }
   ],
   "source": [
    "# Hecho por el Profe\n",
    "def v_cilindro():\n",
    "    h=float(input(\"ingrese el valor de la altura: \"))\n",
    "    r=float(input(\"ingrese el valor del radio: \"))\n",
    "\n",
    "    if r<0 or h <0:\n",
    "        print(\"Usted ha ingresado uno o dos valores negativos, revise los datos nuevamente\")\n",
    "    else:\n",
    "        print(\"El volumen del cilindro es: \", 3.14*r**2*h)\n",
    "\n",
    "v_cilindro()"
   ]
  },
  {
   "cell_type": "code",
   "execution_count": 5,
   "metadata": {},
   "outputs": [
    {
     "name": "stdout",
     "output_type": "stream",
     "text": [
      "El volumen del cilindro es:  904.32\n"
     ]
    }
   ],
   "source": [
    "# Hecho por el Profe 2\n",
    "def v_cilindro(h,r):\n",
    "\n",
    "    if int(r)<0 or int(h) <0:\n",
    "        print(\"Usted ha ingresado uno o dos valores negativos, revise los datos nuevamente\")\n",
    "    else:\n",
    "        print(\"El volumen del cilindro es: \", round(3.14*r**2*h,2))\n",
    "v_cilindro(8,6)"
   ]
  },
  {
   "cell_type": "code",
   "execution_count": 10,
   "metadata": {},
   "outputs": [
    {
     "name": "stdout",
     "output_type": "stream",
     "text": [
      "Ingrese dos valores  para calcular el volumen del cilindro\n",
      "Uno o ambos numeros son negativos. debe ingresar valores positivos, no se puede calcular\n",
      "El volumen es: 0 \n"
     ]
    }
   ],
   "source": [
    "# Por mi\n",
    "def positivo (nro1,nro2):\n",
    "    positivo=True\n",
    "    if nro1<0 or nro2 <0 :\n",
    "        print (\"Uno o ambos numeros son negativos. debe ingresar valores positivos, no se puede calcular\")\n",
    "        positivo=False\n",
    "    return positivo\n",
    "\n",
    "def calcular_volumen(alt,rad):\n",
    "    volumen=0\n",
    "    if positivo(alt,rad):\n",
    "        volumen=round(3.14*rad**2*alt,2)\n",
    "    return volumen\n",
    "\n",
    "print(\"Ingrese dos valores  para calcular el volumen del cilindro\")\n",
    "altura=float(input(\"Ingrese el valor de la altura: \"))\n",
    "radio=float(input(\"Ingrese el valor del radio: \"))\n",
    "resultado=calcular_volumen(altura,radio)\n",
    "print(f\"El volumen es: {resultado} \")\n"
   ]
  },
  {
   "attachments": {},
   "cell_type": "markdown",
   "metadata": {},
   "source": [
    "Ejercicio 2) Construir una función que permita convertir de °F a °C"
   ]
  },
  {
   "cell_type": "code",
   "execution_count": 11,
   "metadata": {},
   "outputs": [],
   "source": [
    "def fahrenheit_a_celsius(fahrenheit):\n",
    "    celsius = (fahrenheit - 32) * 5/9\n",
    "    return celsius"
   ]
  },
  {
   "cell_type": "code",
   "execution_count": 12,
   "metadata": {},
   "outputs": [
    {
     "name": "stdout",
     "output_type": "stream",
     "text": [
      "31.11111111111111\n"
     ]
    }
   ],
   "source": [
    "# Convertir 88°F a °C\n",
    "celsius = fahrenheit_a_celsius(88)\n",
    "print(celsius)"
   ]
  },
  {
   "cell_type": "code",
   "execution_count": 13,
   "metadata": {},
   "outputs": [
    {
     "name": "stdout",
     "output_type": "stream",
     "text": [
      "La sumatoria es:  45\n"
     ]
    }
   ],
   "source": [
    "#ejercicio 3\n",
    "#Escribir una función para calcular la suma de una serie comenzando por un número cualquiera y\n",
    "#terminando en otro número que debe ser mayor al primero.\n",
    "def suma():\n",
    "    x = int(input(\"ingrese el menor valor de la serie: \"))\n",
    "    y=  int(input(\"ingrese el mayor valor de la serie: \"))\n",
    "    contador=0\n",
    "\n",
    "    while x>y:\n",
    "        x = int(input(\"ingrese el menor valor de la serie: \"))\n",
    "        y=  int(input(\"ingrese el mayor valor de la serie: \"))\n",
    "\n",
    "    for i in range(x,y+1):\n",
    "        contador+=i\n",
    "    print(\"La sumatoria es: \", contador)\n",
    "\n",
    "suma()"
   ]
  },
  {
   "cell_type": "code",
   "execution_count": 14,
   "metadata": {},
   "outputs": [],
   "source": [
    "# ejercicio 4\n",
    "#Escribir una función para calcular el factorial de un número cualquiera.\n",
    "def factorial_while(n):\n",
    "    fact=1\n",
    "    while n>0:\n",
    "        fact*=n\n",
    "        n-=1\n",
    "    return fact\n",
    "\n",
    "\n",
    "\n",
    "def factorial_for(n):\n",
    "    fact=1\n",
    "    for i in range(1, n+1):\n",
    "        fact*=i\n",
    "    return fact\n"
   ]
  },
  {
   "cell_type": "code",
   "execution_count": 15,
   "metadata": {},
   "outputs": [
    {
     "data": {
      "text/plain": [
       "3628800"
      ]
     },
     "execution_count": 15,
     "metadata": {},
     "output_type": "execute_result"
    }
   ],
   "source": [
    "factorial_while(10)"
   ]
  },
  {
   "cell_type": "code",
   "execution_count": 16,
   "metadata": {},
   "outputs": [
    {
     "name": "stdout",
     "output_type": "stream",
     "text": [
      "ingreso una altura fuera de rango\n"
     ]
    }
   ],
   "source": [
    "# ejercicio 5\n",
    "def pelota(rebotes, altura):\n",
    "    lista=[]\n",
    "\n",
    "    if altura >10 and altura<1000:\n",
    "        for i in range(rebotes):\n",
    "            nueva_altura= round((altura*3/5),1)\n",
    "            altura= altura*3/5\n",
    "            lista.append(nueva_altura)\n",
    "\n",
    "        return lista\n",
    "\n",
    "    else:\n",
    "        print(\"ingreso una altura fuera de rango\")\n",
    "\n",
    "pelota(5,20000)"
   ]
  },
  {
   "cell_type": "code",
   "execution_count": 17,
   "metadata": {},
   "outputs": [
    {
     "name": "stdout",
     "output_type": "stream",
     "text": [
      "El promedio de los números es: 1.5\n"
     ]
    }
   ],
   "source": [
    "#Ejercicio 6\n",
    "\n",
    "def cal_promedio():\n",
    "\n",
    "    numeros = input(\"Introduce los números separados por comas: \")\n",
    "    numeros_lista = numeros.split(\",\")\n",
    "    suma = 0\n",
    "    for num in numeros_lista:\n",
    "        suma += int(num)\n",
    "    promedio = suma / len(numeros_lista)\n",
    "    print(\"El promedio de los números es:\", round(promedio,1))\n",
    "\n",
    "\n",
    "cal_promedio()"
   ]
  }
 ],
 "metadata": {
  "kernelspec": {
   "display_name": "Python 3",
   "language": "python",
   "name": "python3"
  },
  "language_info": {
   "codemirror_mode": {
    "name": "ipython",
    "version": 3
   },
   "file_extension": ".py",
   "mimetype": "text/x-python",
   "name": "python",
   "nbconvert_exporter": "python",
   "pygments_lexer": "ipython3",
   "version": "3.11.1"
  },
  "orig_nbformat": 4
 },
 "nbformat": 4,
 "nbformat_minor": 2
}
