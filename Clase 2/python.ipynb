{
 "cells": [
  {
   "cell_type": "code",
   "execution_count": null,
   "metadata": {},
   "outputs": [
    {
     "name": "stdout",
     "output_type": "stream",
     "text": [
      "16.3\n"
     ]
    }
   ],
   "source": [
    "# variable  que toma el valor de una suma\n",
    "x = 15 + 1.3\n",
    "# muestro el resultado por pantalla  \n",
    "print(x)"
   ]
  },
  {
   "cell_type": "code",
   "execution_count": null,
   "metadata": {},
   "outputs": [
    {
     "name": "stdout",
     "output_type": "stream",
     "text": [
      "52\n",
      "28\n",
      "480\n",
      "3.3333333333333335\n"
     ]
    }
   ],
   "source": [
    "# variables\n",
    "x = 40\n",
    "y = 12\n",
    "  \n",
    "add = x + y\n",
    "sub = x - y\n",
    "pro = x * y\n",
    "div = x / y\n",
    "# muestro resultados\n",
    "  \n",
    "print(add)\n",
    "print(sub)\n",
    "print(pro)\n",
    "print(div)"
   ]
  },
  {
   "cell_type": "code",
   "execution_count": null,
   "metadata": {},
   "outputs": [
    {
     "name": "stdout",
     "output_type": "stream",
     "text": [
      "25\n"
     ]
    }
   ],
   "source": [
    "a = 13\n",
    "b = 12.0\n",
    "  \n",
    "c = a + int(b)\n",
    "print(c)"
   ]
  },
  {
   "cell_type": "code",
   "execution_count": null,
   "metadata": {},
   "outputs": [
    {
     "name": "stdout",
     "output_type": "stream",
     "text": [
      "2.6\n"
     ]
    }
   ],
   "source": [
    "a = 13\n",
    "b = 5\n",
    "  \n",
    "c = a / b\n",
    "print(c)"
   ]
  },
  {
   "cell_type": "code",
   "execution_count": 2,
   "metadata": {},
   "outputs": [
    {
     "data": {
      "text/html": [
       "<div>\n",
       "<style scoped>\n",
       "    .dataframe tbody tr th:only-of-type {\n",
       "        vertical-align: middle;\n",
       "    }\n",
       "\n",
       "    .dataframe tbody tr th {\n",
       "        vertical-align: top;\n",
       "    }\n",
       "\n",
       "    .dataframe thead th {\n",
       "        text-align: right;\n",
       "    }\n",
       "</style>\n",
       "<table border=\"1\" class=\"dataframe\">\n",
       "  <thead>\n",
       "    <tr style=\"text-align: right;\">\n",
       "      <th></th>\n",
       "      <th>MCD</th>\n",
       "      <th>SBUX</th>\n",
       "      <th>GOOG</th>\n",
       "      <th>AMZN</th>\n",
       "      <th>MSFT</th>\n",
       "      <th>JPM</th>\n",
       "      <th>BAC</th>\n",
       "      <th>C</th>\n",
       "      <th>MAR</th>\n",
       "      <th>HLT</th>\n",
       "      <th>RCL</th>\n",
       "      <th>V</th>\n",
       "      <th>MA</th>\n",
       "      <th>PYPL</th>\n",
       "    </tr>\n",
       "    <tr>\n",
       "      <th>formatted_date</th>\n",
       "      <th></th>\n",
       "      <th></th>\n",
       "      <th></th>\n",
       "      <th></th>\n",
       "      <th></th>\n",
       "      <th></th>\n",
       "      <th></th>\n",
       "      <th></th>\n",
       "      <th></th>\n",
       "      <th></th>\n",
       "      <th></th>\n",
       "      <th></th>\n",
       "      <th></th>\n",
       "      <th></th>\n",
       "    </tr>\n",
       "  </thead>\n",
       "  <tbody>\n",
       "    <tr>\n",
       "      <th>2016-01-01</th>\n",
       "      <td>106.0</td>\n",
       "      <td>54.0</td>\n",
       "      <td>743.0</td>\n",
       "      <td>587.0</td>\n",
       "      <td>50.0</td>\n",
       "      <td>50.0</td>\n",
       "      <td>13.0</td>\n",
       "      <td>37.0</td>\n",
       "      <td>58.0</td>\n",
       "      <td>35.0</td>\n",
       "      <td>74.0</td>\n",
       "      <td>72.0</td>\n",
       "      <td>86.0</td>\n",
       "      <td>36.0</td>\n",
       "    </tr>\n",
       "    <tr>\n",
       "      <th>2016-02-01</th>\n",
       "      <td>101.0</td>\n",
       "      <td>52.0</td>\n",
       "      <td>698.0</td>\n",
       "      <td>553.0</td>\n",
       "      <td>46.0</td>\n",
       "      <td>48.0</td>\n",
       "      <td>11.0</td>\n",
       "      <td>34.0</td>\n",
       "      <td>64.0</td>\n",
       "      <td>41.0</td>\n",
       "      <td>67.0</td>\n",
       "      <td>70.0</td>\n",
       "      <td>84.0</td>\n",
       "      <td>38.0</td>\n",
       "    </tr>\n",
       "    <tr>\n",
       "      <th>2016-03-01</th>\n",
       "      <td>109.0</td>\n",
       "      <td>54.0</td>\n",
       "      <td>745.0</td>\n",
       "      <td>594.0</td>\n",
       "      <td>50.0</td>\n",
       "      <td>51.0</td>\n",
       "      <td>12.0</td>\n",
       "      <td>36.0</td>\n",
       "      <td>67.0</td>\n",
       "      <td>44.0</td>\n",
       "      <td>75.0</td>\n",
       "      <td>74.0</td>\n",
       "      <td>91.0</td>\n",
       "      <td>39.0</td>\n",
       "    </tr>\n",
       "    <tr>\n",
       "      <th>2016-04-01</th>\n",
       "      <td>109.0</td>\n",
       "      <td>50.0</td>\n",
       "      <td>693.0</td>\n",
       "      <td>660.0</td>\n",
       "      <td>45.0</td>\n",
       "      <td>54.0</td>\n",
       "      <td>13.0</td>\n",
       "      <td>40.0</td>\n",
       "      <td>66.0</td>\n",
       "      <td>44.0</td>\n",
       "      <td>70.0</td>\n",
       "      <td>74.0</td>\n",
       "      <td>94.0</td>\n",
       "      <td>39.0</td>\n",
       "    </tr>\n",
       "    <tr>\n",
       "      <th>2016-05-01</th>\n",
       "      <td>106.0</td>\n",
       "      <td>49.0</td>\n",
       "      <td>736.0</td>\n",
       "      <td>723.0</td>\n",
       "      <td>48.0</td>\n",
       "      <td>56.0</td>\n",
       "      <td>13.0</td>\n",
       "      <td>40.0</td>\n",
       "      <td>62.0</td>\n",
       "      <td>41.0</td>\n",
       "      <td>70.0</td>\n",
       "      <td>76.0</td>\n",
       "      <td>93.0</td>\n",
       "      <td>38.0</td>\n",
       "    </tr>\n",
       "    <tr>\n",
       "      <th>2016-06-01</th>\n",
       "      <td>104.0</td>\n",
       "      <td>51.0</td>\n",
       "      <td>692.0</td>\n",
       "      <td>716.0</td>\n",
       "      <td>47.0</td>\n",
       "      <td>53.0</td>\n",
       "      <td>12.0</td>\n",
       "      <td>37.0</td>\n",
       "      <td>63.0</td>\n",
       "      <td>45.0</td>\n",
       "      <td>61.0</td>\n",
       "      <td>72.0</td>\n",
       "      <td>85.0</td>\n",
       "      <td>37.0</td>\n",
       "    </tr>\n",
       "    <tr>\n",
       "      <th>2016-07-01</th>\n",
       "      <td>103.0</td>\n",
       "      <td>52.0</td>\n",
       "      <td>769.0</td>\n",
       "      <td>759.0</td>\n",
       "      <td>52.0</td>\n",
       "      <td>55.0</td>\n",
       "      <td>13.0</td>\n",
       "      <td>38.0</td>\n",
       "      <td>68.0</td>\n",
       "      <td>46.0</td>\n",
       "      <td>66.0</td>\n",
       "      <td>75.0</td>\n",
       "      <td>92.0</td>\n",
       "      <td>37.0</td>\n",
       "    </tr>\n",
       "    <tr>\n",
       "      <th>2016-08-01</th>\n",
       "      <td>101.0</td>\n",
       "      <td>51.0</td>\n",
       "      <td>767.0</td>\n",
       "      <td>769.0</td>\n",
       "      <td>53.0</td>\n",
       "      <td>58.0</td>\n",
       "      <td>14.0</td>\n",
       "      <td>42.0</td>\n",
       "      <td>68.0</td>\n",
       "      <td>47.0</td>\n",
       "      <td>65.0</td>\n",
       "      <td>78.0</td>\n",
       "      <td>94.0</td>\n",
       "      <td>37.0</td>\n",
       "    </tr>\n",
       "    <tr>\n",
       "      <th>2016-09-01</th>\n",
       "      <td>101.0</td>\n",
       "      <td>49.0</td>\n",
       "      <td>777.0</td>\n",
       "      <td>837.0</td>\n",
       "      <td>53.0</td>\n",
       "      <td>58.0</td>\n",
       "      <td>14.0</td>\n",
       "      <td>41.0</td>\n",
       "      <td>64.0</td>\n",
       "      <td>46.0</td>\n",
       "      <td>69.0</td>\n",
       "      <td>80.0</td>\n",
       "      <td>99.0</td>\n",
       "      <td>41.0</td>\n",
       "    </tr>\n",
       "    <tr>\n",
       "      <th>2016-10-01</th>\n",
       "      <td>99.0</td>\n",
       "      <td>48.0</td>\n",
       "      <td>785.0</td>\n",
       "      <td>790.0</td>\n",
       "      <td>55.0</td>\n",
       "      <td>60.0</td>\n",
       "      <td>15.0</td>\n",
       "      <td>43.0</td>\n",
       "      <td>66.0</td>\n",
       "      <td>45.0</td>\n",
       "      <td>71.0</td>\n",
       "      <td>80.0</td>\n",
       "      <td>104.0</td>\n",
       "      <td>42.0</td>\n",
       "    </tr>\n",
       "  </tbody>\n",
       "</table>\n",
       "</div>"
      ],
      "text/plain": [
       "                  MCD  SBUX   GOOG   AMZN  MSFT   JPM   BAC     C   MAR   HLT  \\\n",
       "formatted_date                                                                  \n",
       "2016-01-01      106.0  54.0  743.0  587.0  50.0  50.0  13.0  37.0  58.0  35.0   \n",
       "2016-02-01      101.0  52.0  698.0  553.0  46.0  48.0  11.0  34.0  64.0  41.0   \n",
       "2016-03-01      109.0  54.0  745.0  594.0  50.0  51.0  12.0  36.0  67.0  44.0   \n",
       "2016-04-01      109.0  50.0  693.0  660.0  45.0  54.0  13.0  40.0  66.0  44.0   \n",
       "2016-05-01      106.0  49.0  736.0  723.0  48.0  56.0  13.0  40.0  62.0  41.0   \n",
       "2016-06-01      104.0  51.0  692.0  716.0  47.0  53.0  12.0  37.0  63.0  45.0   \n",
       "2016-07-01      103.0  52.0  769.0  759.0  52.0  55.0  13.0  38.0  68.0  46.0   \n",
       "2016-08-01      101.0  51.0  767.0  769.0  53.0  58.0  14.0  42.0  68.0  47.0   \n",
       "2016-09-01      101.0  49.0  777.0  837.0  53.0  58.0  14.0  41.0  64.0  46.0   \n",
       "2016-10-01       99.0  48.0  785.0  790.0  55.0  60.0  15.0  43.0  66.0  45.0   \n",
       "\n",
       "                 RCL     V     MA  PYPL  \n",
       "formatted_date                           \n",
       "2016-01-01      74.0  72.0   86.0  36.0  \n",
       "2016-02-01      67.0  70.0   84.0  38.0  \n",
       "2016-03-01      75.0  74.0   91.0  39.0  \n",
       "2016-04-01      70.0  74.0   94.0  39.0  \n",
       "2016-05-01      70.0  76.0   93.0  38.0  \n",
       "2016-06-01      61.0  72.0   85.0  37.0  \n",
       "2016-07-01      66.0  75.0   92.0  37.0  \n",
       "2016-08-01      65.0  78.0   94.0  37.0  \n",
       "2016-09-01      69.0  80.0   99.0  41.0  \n",
       "2016-10-01      71.0  80.0  104.0  42.0  "
      ]
     },
     "execution_count": 2,
     "metadata": {},
     "output_type": "execute_result"
    }
   ],
   "source": [
    "# import la blibioteca pandas , sino esta instalada tengoque poner pip install pandas\n",
    "import pandas as pd\n",
    "# en una variable  guardo la ruta /path/ direcciones\n",
    "url = 'https://raw.githubusercontent.com/JJTorresDS/stocks-ds-edu/main/stocks.csv'\n",
    "# luego  df (conmunmente llamada df) leemos  el archivo, y le decimos que la columna cero la tome como indices\n",
    "df = pd.read_csv(url, index_col=0)\n",
    "# lee las primeras 10s\n",
    "df.head(10).round(0)"
   ]
  },
  {
   "cell_type": "code",
   "execution_count": 7,
   "metadata": {},
   "outputs": [
    {
     "data": {
      "text/html": [
       "<div>\n",
       "<style scoped>\n",
       "    .dataframe tbody tr th:only-of-type {\n",
       "        vertical-align: middle;\n",
       "    }\n",
       "\n",
       "    .dataframe tbody tr th {\n",
       "        vertical-align: top;\n",
       "    }\n",
       "\n",
       "    .dataframe thead th {\n",
       "        text-align: right;\n",
       "    }\n",
       "</style>\n",
       "<table border=\"1\" class=\"dataframe\">\n",
       "  <thead>\n",
       "    <tr style=\"text-align: right;\">\n",
       "      <th></th>\n",
       "      <th>MCD</th>\n",
       "      <th>SBUX</th>\n",
       "      <th>GOOG</th>\n",
       "      <th>AMZN</th>\n",
       "      <th>MSFT</th>\n",
       "      <th>JPM</th>\n",
       "      <th>BAC</th>\n",
       "      <th>C</th>\n",
       "      <th>MAR</th>\n",
       "      <th>HLT</th>\n",
       "      <th>RCL</th>\n",
       "      <th>V</th>\n",
       "      <th>MA</th>\n",
       "      <th>PYPL</th>\n",
       "    </tr>\n",
       "    <tr>\n",
       "      <th>formatted_date</th>\n",
       "      <th></th>\n",
       "      <th></th>\n",
       "      <th></th>\n",
       "      <th></th>\n",
       "      <th></th>\n",
       "      <th></th>\n",
       "      <th></th>\n",
       "      <th></th>\n",
       "      <th></th>\n",
       "      <th></th>\n",
       "      <th></th>\n",
       "      <th></th>\n",
       "      <th></th>\n",
       "      <th></th>\n",
       "    </tr>\n",
       "  </thead>\n",
       "  <tbody>\n",
       "    <tr>\n",
       "      <th>2016-01-01</th>\n",
       "      <td>106.332146</td>\n",
       "      <td>54.353962</td>\n",
       "      <td>742.950012</td>\n",
       "      <td>587.000000</td>\n",
       "      <td>49.853489</td>\n",
       "      <td>50.424938</td>\n",
       "      <td>12.573010</td>\n",
       "      <td>36.897804</td>\n",
       "      <td>57.754189</td>\n",
       "      <td>35.192841</td>\n",
       "      <td>74.235298</td>\n",
       "      <td>71.574371</td>\n",
       "      <td>85.822624</td>\n",
       "      <td>36.139999</td>\n",
       "    </tr>\n",
       "    <tr>\n",
       "      <th>2016-02-01</th>\n",
       "      <td>100.671043</td>\n",
       "      <td>52.064243</td>\n",
       "      <td>697.770020</td>\n",
       "      <td>552.520020</td>\n",
       "      <td>46.043667</td>\n",
       "      <td>48.033066</td>\n",
       "      <td>11.132540</td>\n",
       "      <td>33.707108</td>\n",
       "      <td>64.228912</td>\n",
       "      <td>41.061607</td>\n",
       "      <td>67.360649</td>\n",
       "      <td>69.556580</td>\n",
       "      <td>83.956566</td>\n",
       "      <td>38.139999</td>\n",
       "    </tr>\n",
       "    <tr>\n",
       "      <th>2016-03-01</th>\n",
       "      <td>108.782211</td>\n",
       "      <td>53.571442</td>\n",
       "      <td>744.950012</td>\n",
       "      <td>593.640015</td>\n",
       "      <td>50.339031</td>\n",
       "      <td>50.524323</td>\n",
       "      <td>12.021718</td>\n",
       "      <td>36.223217</td>\n",
       "      <td>67.336624</td>\n",
       "      <td>44.499886</td>\n",
       "      <td>74.790009</td>\n",
       "      <td>73.631477</td>\n",
       "      <td>91.278160</td>\n",
       "      <td>38.599998</td>\n",
       "    </tr>\n",
       "    <tr>\n",
       "      <th>2016-04-01</th>\n",
       "      <td>109.483307</td>\n",
       "      <td>50.457645</td>\n",
       "      <td>693.010010</td>\n",
       "      <td>659.590027</td>\n",
       "      <td>45.453705</td>\n",
       "      <td>53.919910</td>\n",
       "      <td>12.995729</td>\n",
       "      <td>40.153545</td>\n",
       "      <td>66.305466</td>\n",
       "      <td>43.716049</td>\n",
       "      <td>70.465584</td>\n",
       "      <td>74.363144</td>\n",
       "      <td>93.683258</td>\n",
       "      <td>39.180000</td>\n",
       "    </tr>\n",
       "    <tr>\n",
       "      <th>2016-05-01</th>\n",
       "      <td>105.648926</td>\n",
       "      <td>49.255203</td>\n",
       "      <td>735.719971</td>\n",
       "      <td>722.789978</td>\n",
       "      <td>48.306515</td>\n",
       "      <td>56.098225</td>\n",
       "      <td>13.201019</td>\n",
       "      <td>40.447887</td>\n",
       "      <td>62.474155</td>\n",
       "      <td>41.198154</td>\n",
       "      <td>70.456474</td>\n",
       "      <td>75.999847</td>\n",
       "      <td>92.817329</td>\n",
       "      <td>37.790001</td>\n",
       "    </tr>\n",
       "  </tbody>\n",
       "</table>\n",
       "</div>"
      ],
      "text/plain": [
       "                       MCD       SBUX        GOOG        AMZN       MSFT  \\\n",
       "formatted_date                                                             \n",
       "2016-01-01      106.332146  54.353962  742.950012  587.000000  49.853489   \n",
       "2016-02-01      100.671043  52.064243  697.770020  552.520020  46.043667   \n",
       "2016-03-01      108.782211  53.571442  744.950012  593.640015  50.339031   \n",
       "2016-04-01      109.483307  50.457645  693.010010  659.590027  45.453705   \n",
       "2016-05-01      105.648926  49.255203  735.719971  722.789978  48.306515   \n",
       "\n",
       "                      JPM        BAC          C        MAR        HLT  \\\n",
       "formatted_date                                                          \n",
       "2016-01-01      50.424938  12.573010  36.897804  57.754189  35.192841   \n",
       "2016-02-01      48.033066  11.132540  33.707108  64.228912  41.061607   \n",
       "2016-03-01      50.524323  12.021718  36.223217  67.336624  44.499886   \n",
       "2016-04-01      53.919910  12.995729  40.153545  66.305466  43.716049   \n",
       "2016-05-01      56.098225  13.201019  40.447887  62.474155  41.198154   \n",
       "\n",
       "                      RCL          V         MA       PYPL  \n",
       "formatted_date                                              \n",
       "2016-01-01      74.235298  71.574371  85.822624  36.139999  \n",
       "2016-02-01      67.360649  69.556580  83.956566  38.139999  \n",
       "2016-03-01      74.790009  73.631477  91.278160  38.599998  \n",
       "2016-04-01      70.465584  74.363144  93.683258  39.180000  \n",
       "2016-05-01      70.456474  75.999847  92.817329  37.790001  "
      ]
     },
     "execution_count": 7,
     "metadata": {},
     "output_type": "execute_result"
    }
   ],
   "source": [
    "df.head()"
   ]
  },
  {
   "cell_type": "code",
   "execution_count": 8,
   "metadata": {},
   "outputs": [
    {
     "data": {
      "text/plain": [
       "(71, 14)"
      ]
     },
     "execution_count": 8,
     "metadata": {},
     "output_type": "execute_result"
    }
   ],
   "source": [
    "# cantidad de filas por columnas\n",
    "df.shape"
   ]
  },
  {
   "attachments": {},
   "cell_type": "markdown",
   "metadata": {},
   "source": [
    "Explicacion del codigo siguiente\n",
    "df: Es el DataFrame en el cual se realizará la operación.\n",
    "['GOOG']: Especifica que se va a trabajar con la columna llamada 'GOOG' dentro del DataFrame.\n",
    ".plot(kind='line', figsize=(10,6), xlabel='Fecha', ylabel='Precio Accion', title='Precio Accion vs Fecha'): \n",
    "Esta parte del código utiliza el método .plot() de Pandas para crear un gráfico de línea. Los parámetros especificados son:\n",
    "*kind='line': Indica que se va a crear un gráfico de línea.\n",
    "*figsize=(10,6): Define el tamaño de la figura en pulgadas (ancho, alto).\n",
    "*xlabel='Fecha': Establece la etiqueta del eje x como 'Fecha'.\n",
    "*ylabel='Precio Accion': Establece la etiqueta del eje y como 'Precio Accion'.\n",
    "*title='Precio Accion vs Fecha': Establece el título del gráfico como 'Precio Accion vs Fecha'.\n",
    " "
   ]
  },
  {
   "cell_type": "code",
   "execution_count": 3,
   "metadata": {},
   "outputs": [
    {
     "data": {
      "text/plain": [
       "<Axes: title={'center': 'Precio Accion vs Fecha'}, xlabel='Fe  cha', ylabel='Precio Accion'>"
      ]
     },
     "execution_count": 3,
     "metadata": {},
     "output_type": "execute_result"
    },
    {
     "data": {
      "image/png": "[encoded data removed]",
      "text/plain": [
       "<Figure size 1000x600 with 1 Axes>"
      ]
     },
     "metadata": {},
     "output_type": "display_data"
    }
   ],
   "source": [
    "df['GOOG'].plot(kind='line',figsize=(10,6),xlabel='Fecha', ylabel='Precio Accion', title='Precio Accion vs Fecha')"
   ]
  },
  {
   "cell_type": "code",
   "execution_count": 7,
   "metadata": {},
   "outputs": [
    {
     "data": {
      "text/plain": [
       "['GOOG']"
      ]
     },
     "execution_count": 7,
     "metadata": {},
     "output_type": "execute_result"
    }
   ],
   "source": [
    "# a la variable columnas, le asigno las columnas del df, y lo transformo en un tipo Lista(list)\n",
    "columnas=list(df.columns)\n",
    "# código filtra las columnas de algún contexto (representado por la variable columnas) y crea una nueva lista \n",
    "# llamada google que contiene solo aquellas columnas que son iguales a 'GOOG'.\n",
    "google= [x for x in columnas if x =='GOOG']\n",
    "google"
   ]
  },
  {
   "cell_type": "code",
   "execution_count": 12,
   "metadata": {},
   "outputs": [
    {
     "data": {
      "text/html": [
       "<div>\n",
       "<style scoped>\n",
       "    .dataframe tbody tr th:only-of-type {\n",
       "        vertical-align: middle;\n",
       "    }\n",
       "\n",
       "    .dataframe tbody tr th {\n",
       "        vertical-align: top;\n",
       "    }\n",
       "\n",
       "    .dataframe thead th {\n",
       "        text-align: right;\n",
       "    }\n",
       "</style>\n",
       "<table border=\"1\" class=\"dataframe\">\n",
       "  <thead>\n",
       "    <tr style=\"text-align: right;\">\n",
       "      <th></th>\n",
       "      <th>GOOG</th>\n",
       "    </tr>\n",
       "    <tr>\n",
       "      <th>formatted_date</th>\n",
       "      <th></th>\n",
       "    </tr>\n",
       "  </thead>\n",
       "  <tbody>\n",
       "    <tr>\n",
       "      <th>2016-01-01</th>\n",
       "      <td>742.950012</td>\n",
       "    </tr>\n",
       "    <tr>\n",
       "      <th>2016-02-01</th>\n",
       "      <td>697.770020</td>\n",
       "    </tr>\n",
       "    <tr>\n",
       "      <th>2016-03-01</th>\n",
       "      <td>744.950012</td>\n",
       "    </tr>\n",
       "    <tr>\n",
       "      <th>2016-04-01</th>\n",
       "      <td>693.010010</td>\n",
       "    </tr>\n",
       "    <tr>\n",
       "      <th>2016-05-01</th>\n",
       "      <td>735.719971</td>\n",
       "    </tr>\n",
       "    <tr>\n",
       "      <th>...</th>\n",
       "      <td>...</td>\n",
       "    </tr>\n",
       "    <tr>\n",
       "      <th>2021-07-01</th>\n",
       "      <td>2704.419922</td>\n",
       "    </tr>\n",
       "    <tr>\n",
       "      <th>2021-08-01</th>\n",
       "      <td>2909.239990</td>\n",
       "    </tr>\n",
       "    <tr>\n",
       "      <th>2021-09-01</th>\n",
       "      <td>2665.310059</td>\n",
       "    </tr>\n",
       "    <tr>\n",
       "      <th>2021-10-01</th>\n",
       "      <td>2965.409912</td>\n",
       "    </tr>\n",
       "    <tr>\n",
       "      <th>2021-11-01</th>\n",
       "      <td>2849.040039</td>\n",
       "    </tr>\n",
       "  </tbody>\n",
       "</table>\n",
       "<p>71 rows × 1 columns</p>\n",
       "</div>"
      ],
      "text/plain": [
       "                       GOOG\n",
       "formatted_date             \n",
       "2016-01-01       742.950012\n",
       "2016-02-01       697.770020\n",
       "2016-03-01       744.950012\n",
       "2016-04-01       693.010010\n",
       "2016-05-01       735.719971\n",
       "...                     ...\n",
       "2021-07-01      2704.419922\n",
       "2021-08-01      2909.239990\n",
       "2021-09-01      2665.310059\n",
       "2021-10-01      2965.409912\n",
       "2021-11-01      2849.040039\n",
       "\n",
       "[71 rows x 1 columns]"
      ]
     },
     "execution_count": 12,
     "metadata": {},
     "output_type": "execute_result"
    }
   ],
   "source": [
    "# Crear una lista de valores booleanos que indica si cada columna de `df` coincide con el nombre 'GOOG'\n",
    "indice_col = list(df.columns == 'GOOG')\n",
    "\n",
    "# Seleccionar las columnas correspondientes en el DataFrame `df` basándose en la lista de booleanos\n",
    "df_goog = df.loc[:, indice_col]\n",
    "\n",
    "# Imprimir el nuevo DataFrame `df_goog` que contiene solo las columnas de 'GOOG' de `df`\n",
    "df_goog\n"
   ]
  },
  {
   "cell_type": "code",
   "execution_count": 11,
   "metadata": {},
   "outputs": [
    {
     "data": {
      "text/plain": [
       "[False,\n",
       " False,\n",
       " True,\n",
       " False,\n",
       " False,\n",
       " False,\n",
       " False,\n",
       " False,\n",
       " False,\n",
       " False,\n",
       " False,\n",
       " False,\n",
       " False,\n",
       " False]"
      ]
     },
     "execution_count": 11,
     "metadata": {},
     "output_type": "execute_result"
    }
   ],
   "source": [
    "indice_col"
   ]
  },
  {
   "cell_type": "code",
   "execution_count": 14,
   "metadata": {},
   "outputs": [
    {
     "data": {
      "text/html": [
       "<div>\n",
       "<style scoped>\n",
       "    .dataframe tbody tr th:only-of-type {\n",
       "        vertical-align: middle;\n",
       "    }\n",
       "\n",
       "    .dataframe tbody tr th {\n",
       "        vertical-align: top;\n",
       "    }\n",
       "\n",
       "    .dataframe thead th {\n",
       "        text-align: right;\n",
       "    }\n",
       "</style>\n",
       "<table border=\"1\" class=\"dataframe\">\n",
       "  <thead>\n",
       "    <tr style=\"text-align: right;\">\n",
       "      <th></th>\n",
       "      <th>GOOG</th>\n",
       "      <th>Fecha</th>\n",
       "    </tr>\n",
       "  </thead>\n",
       "  <tbody>\n",
       "    <tr>\n",
       "      <th>0</th>\n",
       "      <td>742.950012</td>\n",
       "      <td>2016-01-01</td>\n",
       "    </tr>\n",
       "    <tr>\n",
       "      <th>1</th>\n",
       "      <td>697.770020</td>\n",
       "      <td>2016-02-01</td>\n",
       "    </tr>\n",
       "    <tr>\n",
       "      <th>2</th>\n",
       "      <td>744.950012</td>\n",
       "      <td>2016-03-01</td>\n",
       "    </tr>\n",
       "    <tr>\n",
       "      <th>3</th>\n",
       "      <td>693.010010</td>\n",
       "      <td>2016-04-01</td>\n",
       "    </tr>\n",
       "    <tr>\n",
       "      <th>4</th>\n",
       "      <td>735.719971</td>\n",
       "      <td>2016-05-01</td>\n",
       "    </tr>\n",
       "    <tr>\n",
       "      <th>...</th>\n",
       "      <td>...</td>\n",
       "      <td>...</td>\n",
       "    </tr>\n",
       "    <tr>\n",
       "      <th>66</th>\n",
       "      <td>2704.419922</td>\n",
       "      <td>2021-07-01</td>\n",
       "    </tr>\n",
       "    <tr>\n",
       "      <th>67</th>\n",
       "      <td>2909.239990</td>\n",
       "      <td>2021-08-01</td>\n",
       "    </tr>\n",
       "    <tr>\n",
       "      <th>68</th>\n",
       "      <td>2665.310059</td>\n",
       "      <td>2021-09-01</td>\n",
       "    </tr>\n",
       "    <tr>\n",
       "      <th>69</th>\n",
       "      <td>2965.409912</td>\n",
       "      <td>2021-10-01</td>\n",
       "    </tr>\n",
       "    <tr>\n",
       "      <th>70</th>\n",
       "      <td>2849.040039</td>\n",
       "      <td>2021-11-01</td>\n",
       "    </tr>\n",
       "  </tbody>\n",
       "</table>\n",
       "<p>71 rows × 2 columns</p>\n",
       "</div>"
      ],
      "text/plain": [
       "           GOOG      Fecha\n",
       "0    742.950012 2016-01-01\n",
       "1    697.770020 2016-02-01\n",
       "2    744.950012 2016-03-01\n",
       "3    693.010010 2016-04-01\n",
       "4    735.719971 2016-05-01\n",
       "..          ...        ...\n",
       "66  2704.419922 2021-07-01\n",
       "67  2909.239990 2021-08-01\n",
       "68  2665.310059 2021-09-01\n",
       "69  2965.409912 2021-10-01\n",
       "70  2849.040039 2021-11-01\n",
       "\n",
       "[71 rows x 2 columns]"
      ]
     },
     "execution_count": 14,
     "metadata": {},
     "output_type": "execute_result"
    }
   ],
   "source": [
    "# Crear una copia del DataFrame `df_goog`\n",
    "df_n = df_goog.copy()\n",
    "\n",
    "# Agregar una columna llamada 'Fecha' y asignar los índices actuales del DataFrame a esa columna\n",
    "df_n['Fecha'] = df_n.index\n",
    "\n",
    "# Restablecer los índices del DataFrame y eliminar la columna anterior de índices\n",
    "df_n = df_n.reset_index(drop=True)\n",
    "\n",
    "# Convertir la columna 'Fecha' al formato de datos de fecha y hora utilizando `pd.to_datetime()`\n",
    "df_n['Fecha'] = pd.to_datetime(df_n['Fecha'])\n",
    "\n",
    "# Imprimir el DataFrame `df_n` resultante con la nueva columna 'Fecha'\n",
    "df_n\n",
    "\n"
   ]
  },
  {
   "cell_type": "code",
   "execution_count": 15,
   "metadata": {},
   "outputs": [
    {
     "data": {
      "application/vnd.plotly.v1+json": {
       "config": {
        "plotlyServerURL": "https://plot.ly"
       },
       "data": [
        {
         "hovertemplate": "Fecha_dias=%{x}<br>GOOG=%{y}<extra></extra>",
         "legendgroup": "",
         "line": {
          "color": "#636efa",
          "dash": "solid"
         },
         "marker": {
          "symbol": "circle"
         },
         "mode": "lines",
         "name": "",
         "orientation": "v",
         "showlegend": false,
         "type": "scatter",
         "x": [
          "2016-01-01T00:00:00",
          "2016-02-01T00:00:00",
          "2016-03-01T00:00:00",
          "2016-04-01T00:00:00",
          "2016-05-01T00:00:00",
          "2016-06-01T00:00:00",
          "2016-07-01T00:00:00",
          "2016-08-01T00:00:00",
          "2016-09-01T00:00:00",
          "2016-10-01T00:00:00",
          "2016-11-01T00:00:00",
          "2016-12-01T00:00:00",
          "2017-01-01T00:00:00",
          "2017-02-01T00:00:00",
          "2017-03-01T00:00:00",
          "2017-04-01T00:00:00",
          "2017-05-01T00:00:00",
          "2017-06-01T00:00:00",
          "2017-07-01T00:00:00",
          "2017-08-01T00:00:00",
          "2017-09-01T00:00:00",
          "2017-10-01T00:00:00",
          "2017-11-01T00:00:00",
          "2017-12-01T00:00:00",
          "2018-01-01T00:00:00",
          "2018-02-01T00:00:00",
          "2018-03-01T00:00:00",
          "2018-04-01T00:00:00",
          "2018-05-01T00:00:00",
          "2018-06-01T00:00:00",
          "2018-07-01T00:00:00",
          "2018-08-01T00:00:00",
          "2018-09-01T00:00:00",
          "2018-10-01T00:00:00",
          "2018-11-01T00:00:00",
          "2018-12-01T00:00:00",
          "2019-01-01T00:00:00",
          "2019-02-01T00:00:00",
          "2019-03-01T00:00:00",
          "2019-04-01T00:00:00",
          "2019-05-01T00:00:00",
          "2019-06-01T00:00:00",
          "2019-07-01T00:00:00",
          "2019-08-01T00:00:00",
          "2019-09-01T00:00:00",
          "2019-10-01T00:00:00",
          "2019-11-01T00:00:00",
          "2019-12-01T00:00:00",
          "2020-01-01T00:00:00",
          "2020-02-01T00:00:00",
          "2020-03-01T00:00:00",
          "2020-04-01T00:00:00",
          "2020-05-01T00:00:00",
          "2020-06-01T00:00:00",
          "2020-07-01T00:00:00",
          "2020-08-01T00:00:00",
          "2020-09-01T00:00:00",
          "2020-10-01T00:00:00",
          "2020-11-01T00:00:00",
          "2020-12-01T00:00:00",
          "2021-01-01T00:00:00",
          "2021-02-01T00:00:00",
          "2021-03-01T00:00:00",
          "2021-04-01T00:00:00",
          "2021-05-01T00:00:00",
          "2021-06-01T00:00:00",
          "2021-07-01T00:00:00",
          "2021-08-01T00:00:00",
          "2021-09-01T00:00:00",
          "2021-10-01T00:00:00",
          "2021-11-01T00:00:00"
         ],
         "xaxis": "x",
         "y": [
          742.9500122070312,
          697.77001953125,
          744.9500122070312,
          693.010009765625,
          735.719970703125,
          692.0999755859375,
          768.7899780273438,
          767.0499877929688,
          777.2899780273438,
          784.5399780273438,
          758.0399780273438,
          771.8200073242188,
          796.7899780273438,
          823.2100219726562,
          829.5599975585938,
          905.9600219726562,
          964.8599853515624,
          908.72998046875,
          930.5,
          939.3300170898438,
          959.1099853515624,
          1016.6400146484376,
          1021.4099731445312,
          1046.4000244140625,
          1169.93994140625,
          1104.72998046875,
          1031.7900390625,
          1017.3300170898438,
          1084.989990234375,
          1115.6500244140625,
          1217.260009765625,
          1218.18994140625,
          1193.469970703125,
          1076.77001953125,
          1094.4300537109375,
          1035.6099853515625,
          1116.3699951171875,
          1119.9200439453125,
          1173.31005859375,
          1188.47998046875,
          1103.6300048828125,
          1080.9100341796875,
          1216.6800537109375,
          1188.0999755859375,
          1219,
          1260.1099853515625,
          1304.9599609375,
          1337.02001953125,
          1434.22998046875,
          1339.3299560546875,
          1162.81005859375,
          1348.6600341796875,
          1428.9200439453125,
          1413.6099853515625,
          1482.9599609375,
          1634.1800537109375,
          1469.5999755859375,
          1621.010009765625,
          1760.739990234375,
          1751.8800048828125,
          1835.739990234375,
          2036.8599853515625,
          2068.6298828125,
          2410.1201171875,
          2411.56005859375,
          2506.320068359375,
          2704.419921875,
          2909.239990234375,
          2665.31005859375,
          2965.409912109375,
          2849.0400390625
         ],
         "yaxis": "y"
        }
       ],
       "layout": {
        "legend": {
         "tracegroupgap": 0
        },
        "paper_bgcolor": "#FFFFFF",
        "plot_bgcolor": "#FFFFFF",
        "template": {
         "data": {
          "bar": [
           {
            "error_x": {
             "color": "#2a3f5f"
            },
            "error_y": {
             "color": "#2a3f5f"
            },
            "marker": {
             "line": {
              "color": "#E5ECF6",
              "width": 0.5
             },
             "pattern": {
              "fillmode": "overlay",
              "size": 10,
              "solidity": 0.2
             }
            },
            "type": "bar"
           }
          ],
          "barpolar": [
           {
            "marker": {
             "line": {
              "color": "#E5ECF6",
              "width": 0.5
             },
             "pattern": {
              "fillmode": "overlay",
              "size": 10,
              "solidity": 0.2
             }
            },
            "type": "barpolar"
           }
          ],
          "carpet": [
           {
            "aaxis": {
             "endlinecolor": "#2a3f5f",
             "gridcolor": "white",
             "linecolor": "white",
             "minorgridcolor": "white",
             "startlinecolor": "#2a3f5f"
            },
            "baxis": {
             "endlinecolor": "#2a3f5f",
             "gridcolor": "white",
             "linecolor": "white",
             "minorgridcolor": "white",
             "startlinecolor": "#2a3f5f"
            },
            "type": "carpet"
           }
          ],
          "choropleth": [
           {
            "colorbar": {
             "outlinewidth": 0,
             "ticks": ""
            },
            "type": "choropleth"
           }
          ],
          "contour": [
           {
            "colorbar": {
             "outlinewidth": 0,
             "ticks": ""
            },
            "colorscale": [
             [
              0,
              "#0d0887"
             ],
             [
              0.1111111111111111,
              "#46039f"
             ],
             [
              0.2222222222222222,
              "#7201a8"
             ],
             [
              0.3333333333333333,
              "#9c179e"
             ],
             [
              0.4444444444444444,
              "#bd3786"
             ],
             [
              0.5555555555555556,
              "#d8576b"
             ],
             [
              0.6666666666666666,
              "#ed7953"
             ],
             [
              0.7777777777777778,
              "#fb9f3a"
             ],
             [
              0.8888888888888888,
              "#fdca26"
             ],
             [
              1,
              "#f0f921"
             ]
            ],
            "type": "contour"
           }
          ],
          "contourcarpet": [
           {
            "colorbar": {
             "outlinewidth": 0,
             "ticks": ""
            },
            "type": "contourcarpet"
           }
          ],
          "heatmap": [
           {
            "colorbar": {
             "outlinewidth": 0,
             "ticks": ""
            },
            "colorscale": [
             [
              0,
              "#0d0887"
             ],
             [
              0.1111111111111111,
              "#46039f"
             ],
             [
              0.2222222222222222,
              "#7201a8"
             ],
             [
              0.3333333333333333,
              "#9c179e"
             ],
             [
              0.4444444444444444,
              "#bd3786"
             ],
             [
              0.5555555555555556,
              "#d8576b"
             ],
             [
              0.6666666666666666,
              "#ed7953"
             ],
             [
              0.7777777777777778,
              "#fb9f3a"
             ],
             [
              0.8888888888888888,
              "#fdca26"
             ],
             [
              1,
              "#f0f921"
             ]
            ],
            "type": "heatmap"
           }
          ],
          "heatmapgl": [
           {
            "colorbar": {
             "outlinewidth": 0,
             "ticks": ""
            },
            "colorscale": [
             [
              0,
              "#0d0887"
             ],
             [
              0.1111111111111111,
              "#46039f"
             ],
             [
              0.2222222222222222,
              "#7201a8"
             ],
             [
              0.3333333333333333,
              "#9c179e"
             ],
             [
              0.4444444444444444,
              "#bd3786"
             ],
             [
              0.5555555555555556,
              "#d8576b"
             ],
             [
              0.6666666666666666,
              "#ed7953"
             ],
             [
              0.7777777777777778,
              "#fb9f3a"
             ],
             [
              0.8888888888888888,
              "#fdca26"
             ],
             [
              1,
              "#f0f921"
             ]
            ],
            "type": "heatmapgl"
           }
          ],
          "histogram": [
           {
            "marker": {
             "pattern": {
              "fillmode": "overlay",
              "size": 10,
              "solidity": 0.2
             }
            },
            "type": "histogram"
           }
          ],
          "histogram2d": [
           {
            "colorbar": {
             "outlinewidth": 0,
             "ticks": ""
            },
            "colorscale": [
             [
              0,
              "#0d0887"
             ],
             [
              0.1111111111111111,
              "#46039f"
             ],
             [
              0.2222222222222222,
              "#7201a8"
             ],
             [
              0.3333333333333333,
              "#9c179e"
             ],
             [
              0.4444444444444444,
              "#bd3786"
             ],
             [
              0.5555555555555556,
              "#d8576b"
             ],
             [
              0.6666666666666666,
              "#ed7953"
             ],
             [
              0.7777777777777778,
              "#fb9f3a"
             ],
             [
              0.8888888888888888,
              "#fdca26"
             ],
             [
              1,
              "#f0f921"
             ]
            ],
            "type": "histogram2d"
           }
          ],
          "histogram2dcontour": [
           {
            "colorbar": {
             "outlinewidth": 0,
             "ticks": ""
            },
            "colorscale": [
             [
              0,
              "#0d0887"
             ],
             [
              0.1111111111111111,
              "#46039f"
             ],
             [
              0.2222222222222222,
              "#7201a8"
             ],
             [
              0.3333333333333333,
              "#9c179e"
             ],
             [
              0.4444444444444444,
              "#bd3786"
             ],
             [
              0.5555555555555556,
              "#d8576b"
             ],
             [
              0.6666666666666666,
              "#ed7953"
             ],
             [
              0.7777777777777778,
              "#fb9f3a"
             ],
             [
              0.8888888888888888,
              "#fdca26"
             ],
             [
              1,
              "#f0f921"
             ]
            ],
            "type": "histogram2dcontour"
           }
          ],
          "mesh3d": [
           {
            "colorbar": {
             "outlinewidth": 0,
             "ticks": ""
            },
            "type": "mesh3d"
           }
          ],
          "parcoords": [
           {
            "line": {
             "colorbar": {
              "outlinewidth": 0,
              "ticks": ""
             }
            },
            "type": "parcoords"
           }
          ],
          "pie": [
           {
            "automargin": true,
            "type": "pie"
           }
          ],
          "scatter": [
           {
            "fillpattern": {
             "fillmode": "overlay",
             "size": 10,
             "solidity": 0.2
            },
            "type": "scatter"
           }
          ],
          "scatter3d": [
           {
            "line": {
             "colorbar": {
              "outlinewidth": 0,
              "ticks": ""
             }
            },
            "marker": {
             "colorbar": {
              "outlinewidth": 0,
              "ticks": ""
             }
            },
            "type": "scatter3d"
           }
          ],
          "scattercarpet": [
           {
            "marker": {
             "colorbar": {
              "outlinewidth": 0,
              "ticks": ""
             }
            },
            "type": "scattercarpet"
           }
          ],
          "scattergeo": [
           {
            "marker": {
             "colorbar": {
              "outlinewidth": 0,
              "ticks": ""
             }
            },
            "type": "scattergeo"
           }
          ],
          "scattergl": [
           {
            "marker": {
             "colorbar": {
              "outlinewidth": 0,
              "ticks": ""
             }
            },
            "type": "scattergl"
           }
          ],
          "scattermapbox": [
           {
            "marker": {
             "colorbar": {
              "outlinewidth": 0,
              "ticks": ""
             }
            },
            "type": "scattermapbox"
           }
          ],
          "scatterpolar": [
           {
            "marker": {
             "colorbar": {
              "outlinewidth": 0,
              "ticks": ""
             }
            },
            "type": "scatterpolar"
           }
          ],
          "scatterpolargl": [
           {
            "marker": {
             "colorbar": {
              "outlinewidth": 0,
              "ticks": ""
             }
            },
            "type": "scatterpolargl"
           }
          ],
          "scatterternary": [
           {
            "marker": {
             "colorbar": {
              "outlinewidth": 0,
              "ticks": ""
             }
            },
            "type": "scatterternary"
           }
          ],
          "surface": [
           {
            "colorbar": {
             "outlinewidth": 0,
             "ticks": ""
            },
            "colorscale": [
             [
              0,
              "#0d0887"
             ],
             [
              0.1111111111111111,
              "#46039f"
             ],
             [
              0.2222222222222222,
              "#7201a8"
             ],
             [
              0.3333333333333333,
              "#9c179e"
             ],
             [
              0.4444444444444444,
              "#bd3786"
             ],
             [
              0.5555555555555556,
              "#d8576b"
             ],
             [
              0.6666666666666666,
              "#ed7953"
             ],
             [
              0.7777777777777778,
              "#fb9f3a"
             ],
             [
              0.8888888888888888,
              "#fdca26"
             ],
             [
              1,
              "#f0f921"
             ]
            ],
            "type": "surface"
           }
          ],
          "table": [
           {
            "cells": {
             "fill": {
              "color": "#EBF0F8"
             },
             "line": {
              "color": "white"
             }
            },
            "header": {
             "fill": {
              "color": "#C8D4E3"
             },
             "line": {
              "color": "white"
             }
            },
            "type": "table"
           }
          ]
         },
         "layout": {
          "annotationdefaults": {
           "arrowcolor": "#2a3f5f",
           "arrowhead": 0,
           "arrowwidth": 1
          },
          "autotypenumbers": "strict",
          "coloraxis": {
           "colorbar": {
            "outlinewidth": 0,
            "ticks": ""
           }
          },
          "colorscale": {
           "diverging": [
            [
             0,
             "#8e0152"
            ],
            [
             0.1,
             "#c51b7d"
            ],
            [
             0.2,
             "#de77ae"
            ],
            [
             0.3,
             "#f1b6da"
            ],
            [
             0.4,
             "#fde0ef"
            ],
            [
             0.5,
             "#f7f7f7"
            ],
            [
             0.6,
             "#e6f5d0"
            ],
            [
             0.7,
             "#b8e186"
            ],
            [
             0.8,
             "#7fbc41"
            ],
            [
             0.9,
             "#4d9221"
            ],
            [
             1,
             "#276419"
            ]
           ],
           "sequential": [
            [
             0,
             "#0d0887"
            ],
            [
             0.1111111111111111,
             "#46039f"
            ],
            [
             0.2222222222222222,
             "#7201a8"
            ],
            [
             0.3333333333333333,
             "#9c179e"
            ],
            [
             0.4444444444444444,
             "#bd3786"
            ],
            [
             0.5555555555555556,
             "#d8576b"
            ],
            [
             0.6666666666666666,
             "#ed7953"
            ],
            [
             0.7777777777777778,
             "#fb9f3a"
            ],
            [
             0.8888888888888888,
             "#fdca26"
            ],
            [
             1,
             "#f0f921"
            ]
           ],
           "sequentialminus": [
            [
             0,
             "#0d0887"
            ],
            [
             0.1111111111111111,
             "#46039f"
            ],
            [
             0.2222222222222222,
             "#7201a8"
            ],
            [
             0.3333333333333333,
             "#9c179e"
            ],
            [
             0.4444444444444444,
             "#bd3786"
            ],
            [
             0.5555555555555556,
             "#d8576b"
            ],
            [
             0.6666666666666666,
             "#ed7953"
            ],
            [
             0.7777777777777778,
             "#fb9f3a"
            ],
            [
             0.8888888888888888,
             "#fdca26"
            ],
            [
             1,
             "#f0f921"
            ]
           ]
          },
          "colorway": [
           "#636efa",
           "#EF553B",
           "#00cc96",
           "#ab63fa",
           "#FFA15A",
           "#19d3f3",
           "#FF6692",
           "#B6E880",
           "#FF97FF",
           "#FECB52"
          ],
          "font": {
           "color": "#2a3f5f"
          },
          "geo": {
           "bgcolor": "white",
           "lakecolor": "white",
           "landcolor": "#E5ECF6",
           "showlakes": true,
           "showland": true,
           "subunitcolor": "white"
          },
          "hoverlabel": {
           "align": "left"
          },
          "hovermode": "closest",
          "mapbox": {
           "style": "light"
          },
          "paper_bgcolor": "white",
          "plot_bgcolor": "#E5ECF6",
          "polar": {
           "angularaxis": {
            "gridcolor": "white",
            "linecolor": "white",
            "ticks": ""
           },
           "bgcolor": "#E5ECF6",
           "radialaxis": {
            "gridcolor": "white",
            "linecolor": "white",
            "ticks": ""
           }
          },
          "scene": {
           "xaxis": {
            "backgroundcolor": "#E5ECF6",
            "gridcolor": "white",
            "gridwidth": 2,
            "linecolor": "white",
            "showbackground": true,
            "ticks": "",
            "zerolinecolor": "white"
           },
           "yaxis": {
            "backgroundcolor": "#E5ECF6",
            "gridcolor": "white",
            "gridwidth": 2,
            "linecolor": "white",
            "showbackground": true,
            "ticks": "",
            "zerolinecolor": "white"
           },
           "zaxis": {
            "backgroundcolor": "#E5ECF6",
            "gridcolor": "white",
            "gridwidth": 2,
            "linecolor": "white",
            "showbackground": true,
            "ticks": "",
            "zerolinecolor": "white"
           }
          },
          "shapedefaults": {
           "line": {
            "color": "#2a3f5f"
           }
          },
          "ternary": {
           "aaxis": {
            "gridcolor": "white",
            "linecolor": "white",
            "ticks": ""
           },
           "baxis": {
            "gridcolor": "white",
            "linecolor": "white",
            "ticks": ""
           },
           "bgcolor": "#E5ECF6",
           "caxis": {
            "gridcolor": "white",
            "linecolor": "white",
            "ticks": ""
           }
          },
          "title": {
           "x": 0.05
          },
          "xaxis": {
           "automargin": true,
           "gridcolor": "white",
           "linecolor": "white",
           "ticks": "",
           "title": {
            "standoff": 15
           },
           "zerolinecolor": "white",
           "zerolinewidth": 2
          },
          "yaxis": {
           "automargin": true,
           "gridcolor": "white",
           "linecolor": "white",
           "ticks": "",
           "title": {
            "standoff": 15
           },
           "zerolinecolor": "white",
           "zerolinewidth": 2
          }
         }
        },
        "title": {
         "text": "Comportamiento GOOGLE"
        },
        "xaxis": {
         "anchor": "y",
         "domain": [
          0,
          1
         ],
         "title": {
          "text": "Fecha_dias"
         }
        },
        "yaxis": {
         "anchor": "x",
         "domain": [
          0,
          1
         ],
         "title": {
          "text": "GOOG"
         }
        }
       }
      }
     },
     "metadata": {},
     "output_type": "display_data"
    }
   ],
   "source": [
    "import plotly.express as px\n",
    "\n",
    "# Utilizar la función `px.line()` para crear un gráfico de línea\n",
    "# Se especifica el DataFrame `df_n` como los datos de entrada\n",
    "# El eje x se establece como la columna 'Fecha' y el eje y como la columna 'GOOG'\n",
    "# Se agrega un título al gráfico\n",
    "# Se utilizan etiquetas personalizadas para los ejes x e y\n",
    "fig = px.line(data_frame=df_n, x='Fecha', y='GOOG', title='Comportamiento GOOGLE',\n",
    "              labels={\n",
    "                  \"Fecha\": \"Fecha_dias\",\n",
    "                  \"value\": \"Precio (USD)\"\n",
    "              })\n",
    "\n",
    "# Actualizar el diseño del gráfico para establecer el color de fondo del papel y del área del gráfico\n",
    "fig.update_layout(paper_bgcolor=\"#FFFFFF\", plot_bgcolor='#FFFFFF')\n",
    "\n",
    "# Mostrar el gráfico\n",
    "fig.show()\n"
   ]
  },
  {
   "cell_type": "code",
   "execution_count": 16,
   "metadata": {},
   "outputs": [
    {
     "data": {
      "text/html": [
       "<div>\n",
       "<style scoped>\n",
       "    .dataframe tbody tr th:only-of-type {\n",
       "        vertical-align: middle;\n",
       "    }\n",
       "\n",
       "    .dataframe tbody tr th {\n",
       "        vertical-align: top;\n",
       "    }\n",
       "\n",
       "    .dataframe thead th {\n",
       "        text-align: right;\n",
       "    }\n",
       "</style>\n",
       "<table border=\"1\" class=\"dataframe\">\n",
       "  <thead>\n",
       "    <tr style=\"text-align: right;\">\n",
       "      <th></th>\n",
       "      <th>GOOG</th>\n",
       "      <th>Fecha</th>\n",
       "    </tr>\n",
       "  </thead>\n",
       "  <tbody>\n",
       "    <tr>\n",
       "      <th>0</th>\n",
       "      <td>742.950012</td>\n",
       "      <td>2016-01-01</td>\n",
       "    </tr>\n",
       "    <tr>\n",
       "      <th>1</th>\n",
       "      <td>697.770020</td>\n",
       "      <td>2016-02-01</td>\n",
       "    </tr>\n",
       "    <tr>\n",
       "      <th>2</th>\n",
       "      <td>744.950012</td>\n",
       "      <td>2016-03-01</td>\n",
       "    </tr>\n",
       "    <tr>\n",
       "      <th>3</th>\n",
       "      <td>693.010010</td>\n",
       "      <td>2016-04-01</td>\n",
       "    </tr>\n",
       "    <tr>\n",
       "      <th>4</th>\n",
       "      <td>735.719971</td>\n",
       "      <td>2016-05-01</td>\n",
       "    </tr>\n",
       "    <tr>\n",
       "      <th>...</th>\n",
       "      <td>...</td>\n",
       "      <td>...</td>\n",
       "    </tr>\n",
       "    <tr>\n",
       "      <th>66</th>\n",
       "      <td>2704.419922</td>\n",
       "      <td>2021-07-01</td>\n",
       "    </tr>\n",
       "    <tr>\n",
       "      <th>67</th>\n",
       "      <td>2909.239990</td>\n",
       "      <td>2021-08-01</td>\n",
       "    </tr>\n",
       "    <tr>\n",
       "      <th>68</th>\n",
       "      <td>2665.310059</td>\n",
       "      <td>2021-09-01</td>\n",
       "    </tr>\n",
       "    <tr>\n",
       "      <th>69</th>\n",
       "      <td>2965.409912</td>\n",
       "      <td>2021-10-01</td>\n",
       "    </tr>\n",
       "    <tr>\n",
       "      <th>70</th>\n",
       "      <td>2849.040039</td>\n",
       "      <td>2021-11-01</td>\n",
       "    </tr>\n",
       "  </tbody>\n",
       "</table>\n",
       "<p>71 rows × 2 columns</p>\n",
       "</div>"
      ],
      "text/plain": [
       "           GOOG      Fecha\n",
       "0    742.950012 2016-01-01\n",
       "1    697.770020 2016-02-01\n",
       "2    744.950012 2016-03-01\n",
       "3    693.010010 2016-04-01\n",
       "4    735.719971 2016-05-01\n",
       "..          ...        ...\n",
       "66  2704.419922 2021-07-01\n",
       "67  2909.239990 2021-08-01\n",
       "68  2665.310059 2021-09-01\n",
       "69  2965.409912 2021-10-01\n",
       "70  2849.040039 2021-11-01\n",
       "\n",
       "[71 rows x 2 columns]"
      ]
     },
     "execution_count": 16,
     "metadata": {},
     "output_type": "execute_result"
    }
   ],
   "source": [
    "df_n"
   ]
  },
  {
   "cell_type": "code",
   "execution_count": 21,
   "metadata": {},
   "outputs": [
    {
     "data": {
      "text/html": [
       "<div>\n",
       "<style scoped>\n",
       "    .dataframe tbody tr th:only-of-type {\n",
       "        vertical-align: middle;\n",
       "    }\n",
       "\n",
       "    .dataframe tbody tr th {\n",
       "        vertical-align: top;\n",
       "    }\n",
       "\n",
       "    .dataframe thead th {\n",
       "        text-align: right;\n",
       "    }\n",
       "</style>\n",
       "<table border=\"1\" class=\"dataframe\">\n",
       "  <thead>\n",
       "    <tr style=\"text-align: right;\">\n",
       "      <th></th>\n",
       "      <th>GOOG</th>\n",
       "      <th>Fecha</th>\n",
       "      <th>Dif</th>\n",
       "    </tr>\n",
       "  </thead>\n",
       "  <tbody>\n",
       "    <tr>\n",
       "      <th>0</th>\n",
       "      <td>742.950012</td>\n",
       "      <td>2016-01-01</td>\n",
       "      <td>NaN</td>\n",
       "    </tr>\n",
       "    <tr>\n",
       "      <th>1</th>\n",
       "      <td>697.770020</td>\n",
       "      <td>2016-02-01</td>\n",
       "      <td>-45.179993</td>\n",
       "    </tr>\n",
       "    <tr>\n",
       "      <th>2</th>\n",
       "      <td>744.950012</td>\n",
       "      <td>2016-03-01</td>\n",
       "      <td>47.179993</td>\n",
       "    </tr>\n",
       "    <tr>\n",
       "      <th>3</th>\n",
       "      <td>693.010010</td>\n",
       "      <td>2016-04-01</td>\n",
       "      <td>-51.940002</td>\n",
       "    </tr>\n",
       "    <tr>\n",
       "      <th>4</th>\n",
       "      <td>735.719971</td>\n",
       "      <td>2016-05-01</td>\n",
       "      <td>42.709961</td>\n",
       "    </tr>\n",
       "    <tr>\n",
       "      <th>...</th>\n",
       "      <td>...</td>\n",
       "      <td>...</td>\n",
       "      <td>...</td>\n",
       "    </tr>\n",
       "    <tr>\n",
       "      <th>66</th>\n",
       "      <td>2704.419922</td>\n",
       "      <td>2021-07-01</td>\n",
       "      <td>198.099854</td>\n",
       "    </tr>\n",
       "    <tr>\n",
       "      <th>67</th>\n",
       "      <td>2909.239990</td>\n",
       "      <td>2021-08-01</td>\n",
       "      <td>204.820068</td>\n",
       "    </tr>\n",
       "    <tr>\n",
       "      <th>68</th>\n",
       "      <td>2665.310059</td>\n",
       "      <td>2021-09-01</td>\n",
       "      <td>-243.929932</td>\n",
       "    </tr>\n",
       "    <tr>\n",
       "      <th>69</th>\n",
       "      <td>2965.409912</td>\n",
       "      <td>2021-10-01</td>\n",
       "      <td>300.099854</td>\n",
       "    </tr>\n",
       "    <tr>\n",
       "      <th>70</th>\n",
       "      <td>2849.040039</td>\n",
       "      <td>2021-11-01</td>\n",
       "      <td>-116.369873</td>\n",
       "    </tr>\n",
       "  </tbody>\n",
       "</table>\n",
       "<p>71 rows × 3 columns</p>\n",
       "</div>"
      ],
      "text/plain": [
       "           GOOG      Fecha         Dif\n",
       "0    742.950012 2016-01-01         NaN\n",
       "1    697.770020 2016-02-01  -45.179993\n",
       "2    744.950012 2016-03-01   47.179993\n",
       "3    693.010010 2016-04-01  -51.940002\n",
       "4    735.719971 2016-05-01   42.709961\n",
       "..          ...        ...         ...\n",
       "66  2704.419922 2021-07-01  198.099854\n",
       "67  2909.239990 2021-08-01  204.820068\n",
       "68  2665.310059 2021-09-01 -243.929932\n",
       "69  2965.409912 2021-10-01  300.099854\n",
       "70  2849.040039 2021-11-01 -116.369873\n",
       "\n",
       "[71 rows x 3 columns]"
      ]
     },
     "execution_count": 21,
     "metadata": {},
     "output_type": "execute_result"
    }
   ],
   "source": [
    "pasos = 2\n",
    "\n",
    "# Definir una función llamada 'my_fun' que toma como argumento una serie de pandas 'x'\n",
    "# La función devuelve la diferencia entre el último y el primer elemento de la serie\n",
    "def my_fun(x):\n",
    "    return x.iloc[-1] - x.iloc[0]\n",
    "\n",
    "# Utilizar el método 'rolling()' en la columna 'GOOG' del DataFrame 'df_n'\n",
    "# Esto crea una ventana de tamaño 'pasos' que se desplaza por los datos\n",
    "# Aplicar la función 'my_fun' a cada ventana y guardar los resultados en la columna 'Dif'\n",
    "df_n['Dif'] = df_n['GOOG'].rolling(window=pasos).apply(my_fun)\n",
    "\n",
    "# Mostrar el DataFrame actualizado\n",
    "df_n\n"
   ]
  },
  {
   "cell_type": "code",
   "execution_count": 18,
   "metadata": {},
   "outputs": [
    {
     "data": {
      "text/plain": [
       "0     False\n",
       "1      True\n",
       "2     False\n",
       "3      True\n",
       "4     False\n",
       "      ...  \n",
       "66    False\n",
       "67    False\n",
       "68     True\n",
       "69    False\n",
       "70     True\n",
       "Name: Dif, Length: 71, dtype: bool"
      ]
     },
     "execution_count": 18,
     "metadata": {},
     "output_type": "execute_result"
    }
   ],
   "source": [
    "# HAcemos un filtro de cuando los valores de Dif <0\n",
    "index_bool= df_n.Dif<0\n",
    "index_bool"
   ]
  },
  {
   "cell_type": "code",
   "execution_count": 23,
   "metadata": {},
   "outputs": [
    {
     "data": {
      "text/html": [
       "<div>\n",
       "<style scoped>\n",
       "    .dataframe tbody tr th:only-of-type {\n",
       "        vertical-align: middle;\n",
       "    }\n",
       "\n",
       "    .dataframe tbody tr th {\n",
       "        vertical-align: top;\n",
       "    }\n",
       "\n",
       "    .dataframe thead th {\n",
       "        text-align: right;\n",
       "    }\n",
       "</style>\n",
       "<table border=\"1\" class=\"dataframe\">\n",
       "  <thead>\n",
       "    <tr style=\"text-align: right;\">\n",
       "      <th></th>\n",
       "      <th>GOOG</th>\n",
       "      <th>Fecha</th>\n",
       "      <th>Dif</th>\n",
       "    </tr>\n",
       "  </thead>\n",
       "  <tbody>\n",
       "    <tr>\n",
       "      <th>1</th>\n",
       "      <td>697.770020</td>\n",
       "      <td>2016-02-01</td>\n",
       "      <td>-45.179993</td>\n",
       "    </tr>\n",
       "    <tr>\n",
       "      <th>3</th>\n",
       "      <td>693.010010</td>\n",
       "      <td>2016-04-01</td>\n",
       "      <td>-51.940002</td>\n",
       "    </tr>\n",
       "    <tr>\n",
       "      <th>5</th>\n",
       "      <td>692.099976</td>\n",
       "      <td>2016-06-01</td>\n",
       "      <td>-43.619995</td>\n",
       "    </tr>\n",
       "    <tr>\n",
       "      <th>7</th>\n",
       "      <td>767.049988</td>\n",
       "      <td>2016-08-01</td>\n",
       "      <td>-1.739990</td>\n",
       "    </tr>\n",
       "    <tr>\n",
       "      <th>10</th>\n",
       "      <td>758.039978</td>\n",
       "      <td>2016-11-01</td>\n",
       "      <td>-26.500000</td>\n",
       "    </tr>\n",
       "  </tbody>\n",
       "</table>\n",
       "</div>"
      ],
      "text/plain": [
       "          GOOG      Fecha        Dif\n",
       "1   697.770020 2016-02-01 -45.179993\n",
       "3   693.010010 2016-04-01 -51.940002\n",
       "5   692.099976 2016-06-01 -43.619995\n",
       "7   767.049988 2016-08-01  -1.739990\n",
       "10  758.039978 2016-11-01 -26.500000"
      ]
     },
     "execution_count": 23,
     "metadata": {},
     "output_type": "execute_result"
    }
   ],
   "source": [
    "# Ahora podemos aplicar el filtro sobre el objeto data frame\n",
    "df_neg=df_n.loc[index_bool,:]\n",
    "df_neg.head()"
   ]
  },
  {
   "cell_type": "code",
   "execution_count": 22,
   "metadata": {},
   "outputs": [
    {
     "data": {
      "image/png": "[encoded data removed]",
      "text/plain": [
       "<Figure size 1000x600 with 1 Axes>"
      ]
     },
     "metadata": {},
     "output_type": "display_data"
    }
   ],
   "source": [
    "import matplotlib.pyplot as plt\n",
    "\n",
    "# Crear una figura y un objeto de ejes\n",
    "fig, ax = plt.subplots(figsize=(10, 6))\n",
    "\n",
    "# Graficar la serie temporal 'Fecha' en el eje x y la serie 'GOOG' en el eje y como una línea\n",
    "ax.plot(df_n.Fecha, df_n.GOOG)\n",
    "\n",
    "# Graficar puntos rojos en las fechas y valores donde la columna 'Dif' es negativa\n",
    "ax.scatter(x=df_n.Fecha[df_n.Dif < 0], y=df_n.GOOG[df_n.Dif < 0], s=20, color='red', label='R')\n",
    "\n",
    "# Establecer etiquetas de los ejes x e y, y título del gráfico\n",
    "ax.set_xlabel('Fecha')\n",
    "ax.set_ylabel('Precio')\n",
    "ax.set_title('Precio Acción vs Tiempo')\n",
    "\n",
    "# Agregar una leyenda en la esquina superior izquierda\n",
    "ax.legend(loc='upper left')\n",
    "\n",
    "# Mostrar el gráfico\n",
    "plt.show()\n"
   ]
  },
  {
   "attachments": {},
   "cell_type": "markdown",
   "metadata": {},
   "source": [
    "Desafio\n",
    "Intenten hacer le mismo procedimiento para AMZN y observen si existe el mismo patron\n",
    "\n",
    "Con esto entonces podemos monitorear cuando una accion puede disminuir su valor"
   ]
  }
 ],
 "metadata": {
  "kernelspec": {
   "display_name": "Python 3",
   "language": "python",
   "name": "python3"
  },
  "language_info": {
   "codemirror_mode": {
    "name": "ipython",
    "version": 3
   },
   "file_extension": ".py",
   "mimetype": "text/x-python",
   "name": "python",
   "nbconvert_exporter": "python",
   "pygments_lexer": "ipython3",
   "version": "3.11.1"
  },
  "orig_nbformat": 4
 },
 "nbformat": 4,
 "nbformat_minor": 2
}
