{
 "cells": [
  {
   "cell_type": "code",
   "execution_count": 16,
   "metadata": {},
   "outputs": [],
   "source": [
    "# Dar la oportunidad al usuario de ingresar un valor, que lo tomara como entero.\n",
    "x= int(input(\"Introduzca la edad de Juan: \"))\n",
    "y= int(input(\"Introduzca la edad de Maria: \"))"
   ]
  },
  {
   "cell_type": "code",
   "execution_count": 17,
   "metadata": {},
   "outputs": [
    {
     "data": {
      "text/plain": [
       "90"
      ]
     },
     "execution_count": 17,
     "metadata": {},
     "output_type": "execute_result"
    }
   ],
   "source": [
    "# a una variable le asigno la sumantoria de dos variables.\n",
    "suma_edades=x+y\n",
    "suma_edades"
   ]
  },
  {
   "cell_type": "code",
   "execution_count": 19,
   "metadata": {},
   "outputs": [
    {
     "data": {
      "text/plain": [
       "[2, 3, 4, 5, 6, 8]"
      ]
     },
     "execution_count": 19,
     "metadata": {},
     "output_type": "execute_result"
    }
   ],
   "source": [
    "# Agregar elementos a una lista al ultimo\n",
    "\n",
    "lista_1=[2,3,4,5,6]\n",
    "lista_1.append(8)\n",
    "lista_1"
   ]
  },
  {
   "cell_type": "code",
   "execution_count": 20,
   "metadata": {},
   "outputs": [
    {
     "name": "stdout",
     "output_type": "stream",
     "text": [
      "[1, 100, 2, 3, 4, 5]\n"
     ]
    }
   ],
   "source": [
    "# con insert puedo insertar un nuevo elemento y definir su posición\n",
    "lista_2 = [1, 2, 3, 4, 5]\n",
    "nuevo_elemento = 100\n",
    "# lista donde inserto, posicion donde, y el elemento que inserto\n",
    "lista_2.insert(1, nuevo_elemento)\n",
    "print(lista_2)"
   ]
  },
  {
   "cell_type": "code",
   "execution_count": 21,
   "metadata": {},
   "outputs": [
    {
     "data": {
      "text/plain": [
       "[2, 3, 5, 6, 8]"
      ]
     },
     "execution_count": 21,
     "metadata": {},
     "output_type": "execute_result"
    }
   ],
   "source": [
    "#eliminar elemento de una lista con remove(), posicion  \n",
    "lista_1.remove(4)\n",
    "lista_1\n",
    "\n",
    "#remove elimina directamente los elementos"
   ]
  },
  {
   "cell_type": "code",
   "execution_count": 24,
   "metadata": {},
   "outputs": [
    {
     "data": {
      "text/plain": [
       "[5, 6]"
      ]
     },
     "execution_count": 24,
     "metadata": {},
     "output_type": "execute_result"
    }
   ],
   "source": [
    "#eliminar elemento de una lista con pop()\n",
    "lista_1.pop()\n",
    "lista_1\n",
    "\n",
    "#pop elimina elementos basados en su posición, en python como en muchos otros lenguaje la primera posición es 0"
   ]
  },
  {
   "cell_type": "code",
   "execution_count": 10,
   "metadata": {},
   "outputs": [
    {
     "name": "stdout",
     "output_type": "stream",
     "text": [
      "3\n",
      "5\n",
      "7\n",
      "9\n"
     ]
    }
   ],
   "source": [
    "# recorro una lista y muestro el siguiente valor de cada valor de la misma\n",
    "for i in [2, 4, 6, 8]:\n",
    "    print(i + 1)"
   ]
  },
  {
   "cell_type": "code",
   "execution_count": 25,
   "metadata": {},
   "outputs": [
    {
     "data": {
      "text/plain": [
       "2"
      ]
     },
     "execution_count": 25,
     "metadata": {},
     "output_type": "execute_result"
    }
   ],
   "source": [
    "# tamaño de la lista_1\n",
    "len(lista_1)"
   ]
  },
  {
   "cell_type": "code",
   "execution_count": 26,
   "metadata": {},
   "outputs": [
    {
     "name": "stdout",
     "output_type": "stream",
     "text": [
      "0\n",
      "1\n"
     ]
    }
   ],
   "source": [
    "# bucle for usando rango, del tamaño de la lista\n",
    "for i in range(len(lista_1)):\n",
    "    print (i)"
   ]
  },
  {
   "cell_type": "code",
   "execution_count": 27,
   "metadata": {},
   "outputs": [
    {
     "name": "stdout",
     "output_type": "stream",
     "text": [
      "1\n",
      "final\n",
      "4\n",
      "final\n",
      "6\n",
      "final\n",
      "2\n",
      "final\n",
      "hola\n",
      "final\n"
     ]
    }
   ],
   "source": [
    "# creo una lista, la recorre, y muestro un mensaje tras cada valor de la lista\n",
    "x = [1, 4, 6, 2, \"hola\"] # Apuntando a una lista\n",
    "# inicio\n",
    "for i in x:\n",
    "    print(i)\n",
    "    print(\"final\")"
   ]
  },
  {
   "cell_type": "code",
   "execution_count": null,
   "metadata": {},
   "outputs": [],
   "source": [
    "# lo mismo que antes, pero el print (final) es fuera del for\n",
    "x = [1, 4, 6, 2, \"hola\"] # Apuntando a una lista\n",
    "\n",
    "for i in x:# inicio\n",
    "    print(i)\n",
    "print(\"final\")"
   ]
  },
  {
   "cell_type": "code",
   "execution_count": null,
   "metadata": {},
   "outputs": [],
   "source": [
    "for i in [1,4,6,2]:\n",
    "    print(i) # SIN INDENTACIÓN"
   ]
  },
  {
   "cell_type": "code",
   "execution_count": 29,
   "metadata": {},
   "outputs": [
    {
     "data": {
      "text/plain": [
       "[0, 1, 2, 3, 4, 5]"
      ]
     },
     "execution_count": 29,
     "metadata": {},
     "output_type": "execute_result"
    }
   ],
   "source": [
    "# muestro una lita de rango 6(6-1)\n",
    "list(range(6))"
   ]
  },
  {
   "cell_type": "code",
   "execution_count": null,
   "metadata": {},
   "outputs": [],
   "source": [
    "# recorro con rango 5\n",
    "for i in range(5):\n",
    "    print(i)"
   ]
  },
  {
   "cell_type": "code",
   "execution_count": null,
   "metadata": {},
   "outputs": [],
   "source": [
    "# recorro con rango  de 1 a 5\n",
    "for i in range(1, 5):\n",
    "    print(i)"
   ]
  },
  {
   "cell_type": "code",
   "execution_count": null,
   "metadata": {},
   "outputs": [],
   "source": [
    "# recorro con rango  de 1 a 10 con paso 2\n",
    "for i in range(1, 10, 2):\n",
    "    print(i)"
   ]
  },
  {
   "cell_type": "code",
   "execution_count": null,
   "metadata": {},
   "outputs": [],
   "source": [
    "# recorro con rango  de 2 a 10 con paso 2\n",
    "for i in range(2, 10, 2):\n",
    "    print(i)"
   ]
  },
  {
   "cell_type": "code",
   "execution_count": 30,
   "metadata": {},
   "outputs": [
    {
     "name": "stdout",
     "output_type": "stream",
     "text": [
      "1\n",
      "2\n",
      "3\n"
     ]
    }
   ],
   "source": [
    "# Bucle while, inicializo en 1\n",
    "i = 1\n",
    "# verifico condicion de ingreso\n",
    "while i != 4:    # mientras i es menor a 4 ejecute\n",
    "    print(i)    # imprimir i\n",
    "    # importante siempre esta linea, para que alguna vez el bucle while termine o no\n",
    "    i += 1      # operación de asignación (i = i + 1)"
   ]
  },
  {
   "cell_type": "code",
   "execution_count": null,
   "metadata": {},
   "outputs": [],
   "source": [
    "# bucle mientras\n",
    "i = 10\n",
    "while i != 0:    # mientras i es menor a 4 ejecute\n",
    "    print(i)    # imprimir i\n",
    "    i -= 2  "
   ]
  },
  {
   "cell_type": "code",
   "execution_count": null,
   "metadata": {},
   "outputs": [],
   "source": [
    "# bucle mientras\n",
    "i = 0\n",
    "while i < 5:\n",
    "    print(i)"
   ]
  },
  {
   "cell_type": "code",
   "execution_count": null,
   "metadata": {},
   "outputs": [],
   "source": [
    "# condicional if/elif/else\n",
    "x = 10\n",
    "if x < 10:                       # Pregunto si x es menor a 10\n",
    "    print(x, \"es menor a 10\")   # Si es así muestro mensaje\n",
    "elif x > 10:                    # Si no es así, pregunto si x es mayor\n",
    "    print(x, \"es mayor a 10\")   # a 10 y si es así muestro mensaje\n",
    "else:                           # Si nada de lo anterior se\n",
    "    print(x, \"es 10\")           # cumple, ejecuto esto"
   ]
  },
  {
   "cell_type": "code",
   "execution_count": null,
   "metadata": {},
   "outputs": [],
   "source": [
    "# Se puede utilizar solo una condición \n",
    "x = 1\n",
    "if type(x) != str:\n",
    "    print(\"No es texto\")"
   ]
  },
  {
   "cell_type": "code",
   "execution_count": null,
   "metadata": {},
   "outputs": [],
   "source": [
    "# Se puede utilizar solo una condición y la exclusión\n",
    "# condicional\n",
    "x = 15\n",
    "if x % 3 == 0:\n",
    "    print(\"x es multiplo de 3\")\n",
    "else:\n",
    "    print(\"x NO es multiplo de 3\")"
   ]
  },
  {
   "cell_type": "code",
   "execution_count": null,
   "metadata": {},
   "outputs": [],
   "source": [
    "# condicional\n",
    "20 % 3 ==2\n",
    "# recordar que % es el resto de la división"
   ]
  },
  {
   "cell_type": "code",
   "execution_count": null,
   "metadata": {},
   "outputs": [],
   "source": [
    "# condicional\n",
    "20//3"
   ]
  },
  {
   "cell_type": "code",
   "execution_count": null,
   "metadata": {},
   "outputs": [],
   "source": [
    "#esta forma es usando append, pero no es la única manera de hacerlo\n",
    "lista_original = [3, 1, 2, 3, 4, 5, 4, 6, 4,3] # lista\n",
    "lista_sin_tres = [] # lista vacia\n",
    "# bucle for para recorrer la lista original\n",
    "for x in lista_original:\n",
    "    # si x es distinto a tres lo asgino\n",
    "    if x != 3:\n",
    "        lista_sin_tres.append(x)\n",
    "# muestro la lista al final\n",
    "print(lista_sin_tres)"
   ]
  },
  {
   "cell_type": "code",
   "execution_count": null,
   "metadata": {},
   "outputs": [],
   "source": [
    "#versión alternativa usando remove()\n",
    "lista_original = [3, 1, 2, 3, 4, 5, 4, 6, 4,3]\n",
    "\n",
    "for x in lista_original:\n",
    "    # cuando x sea igual a 3 elimino el numero\n",
    "    if x == 3:\n",
    "        lista_original.remove(x)\n",
    "    else:\n",
    "        pass\n",
    "\n",
    "print(lista_original)"
   ]
  },
  {
   "cell_type": "code",
   "execution_count": 31,
   "metadata": {},
   "outputs": [
    {
     "name": "stdout",
     "output_type": "stream",
     "text": [
      "{'a': 1, 'c': 3}\n"
     ]
    }
   ],
   "source": [
    "\"\"\"\n",
    "Para eliminar elementos de un diccionario en Python, puedes utilizar el método del o el método pop().\n",
    "El método del se utiliza para eliminar un elemento específico del diccionario mediante la clave correspondiente.\n",
    "Por ejemplo:\n",
    "\"\"\"\n",
    "diccionario = {'a': 1, 'b': 2, 'c': 3}\n",
    "# se elimina la clave B\n",
    "del diccionario['b']\n",
    "\n",
    "print(diccionario)"
   ]
  },
  {
   "cell_type": "code",
   "execution_count": 14,
   "metadata": {},
   "outputs": [
    {
     "name": "stdout",
     "output_type": "stream",
     "text": [
      "{'a': 1, 'c': 3}\n",
      "2\n"
     ]
    }
   ],
   "source": [
    "\"\"\"\n",
    "El método pop() se utiliza para eliminar un elemento específico del diccionario mediante la clave \n",
    "correspondiente y devuelve el valor asociado a esa clave. La sintaxis del método pop() es la siguiente:\n",
    "\"\"\"\n",
    "# creo diccionario\n",
    "diccionario = {'a': 1, 'b': 2, 'c': 3}\n",
    "# guardo el valor eliminado\n",
    "valor = diccionario.pop('b')\n",
    "\n",
    "print(diccionario)  # {'a': 1, 'c': 3}\n",
    "print(valor)       # 2"
   ]
  },
  {
   "cell_type": "code",
   "execution_count": null,
   "metadata": {},
   "outputs": [],
   "source": [
    "# Ahora agreguemos elementos a un diccionario\n",
    "\n",
    "diccionario = {'Nombre': \"Juan\", 'Edad': 12, 'Ocupación': \"estudiante\"}\n",
    "diccionario"
   ]
  },
  {
   "cell_type": "code",
   "execution_count": null,
   "metadata": {},
   "outputs": [],
   "source": [
    "# Ahora agreguemos elementos a un diccionario, agrego clave y le asgino valor\n",
    "diccionario[\"DNI\"]=40000000\n",
    "diccionario"
   ]
  },
  {
   "cell_type": "code",
   "execution_count": null,
   "metadata": {},
   "outputs": [],
   "source": [
    "# Ahora editemos elementos a un diccionario, pongo la clave, y añado el valor nuevo\n",
    "diccionario[\"DNI\"]=35000000\n",
    "diccionario"
   ]
  },
  {
   "cell_type": "code",
   "execution_count": null,
   "metadata": {},
   "outputs": [],
   "source": [
    "# DEFINICIÓN\n",
    "def my_function(): # No necesarimente se usan argumentos\n",
    "    print(\"Hello from a function\") # No necesariamente se usa un retorno"
   ]
  },
  {
   "cell_type": "code",
   "execution_count": null,
   "metadata": {},
   "outputs": [],
   "source": [
    "# LLAMAR o USAR\n",
    "my_function()"
   ]
  },
  {
   "cell_type": "code",
   "execution_count": 33,
   "metadata": {},
   "outputs": [],
   "source": [
    "def my_function(nombre):  # funcion que le paso un parametro\n",
    "    print(nombre, \"es tutor de coderhouse\") # No necesariamente se usa un retorno"
   ]
  },
  {
   "cell_type": "code",
   "execution_count": 34,
   "metadata": {},
   "outputs": [
    {
     "name": "stdout",
     "output_type": "stream",
     "text": [
      "Germán es tutor de coderhouse\n",
      "Gustavo es tutor de coderhouse\n",
      "Jose es tutor de coderhouse\n"
     ]
    }
   ],
   "source": [
    "my_function(\"Germán\") # llamo funciones \n",
    "my_function(\"Gustavo\")\n",
    "my_function(\"Jose\")"
   ]
  },
  {
   "cell_type": "code",
   "execution_count": 35,
   "metadata": {},
   "outputs": [
    {
     "name": "stdout",
     "output_type": "stream",
     "text": [
      "Omar es tutor de coderhouse\n"
     ]
    }
   ],
   "source": [
    "my_function(\"Omar\")"
   ]
  },
  {
   "cell_type": "code",
   "execution_count": 37,
   "metadata": {},
   "outputs": [],
   "source": [
    "def repetir_nveces(n:int, texto:str):\n",
    "    # Verificar si el tipo de dato de 'texto' es una cadena de texto (str)\n",
    "    if type(texto) != str:\n",
    "        raise Exception(\"TypeError in texto\")  # Lanzar una excepción si no es una cadena de texto\n",
    "    \n",
    "    # Verificar si el tipo de dato de 'n' es un número entero (int)\n",
    "    if type(n) != int:\n",
    "        raise Exception(\"TypeError in n\")  # Lanzar una excepción si no es un número entero\n",
    "    \n",
    "    # Devolver el resultado de repetir 'n' veces el contenido de 'texto'\n",
    "    return n * texto\n"
   ]
  },
  {
   "cell_type": "code",
   "execution_count": 40,
   "metadata": {},
   "outputs": [
    {
     "ename": "Exception",
     "evalue": "TypeError in n",
     "output_type": "error",
     "traceback": [
      "\u001b[1;31m---------------------------------------------------------------------------\u001b[0m",
      "\u001b[1;31mException\u001b[0m                                 Traceback (most recent call last)",
      "Cell \u001b[1;32mIn[40], line 1\u001b[0m\n\u001b[1;32m----> 1\u001b[0m repetir_nveces(\u001b[39m3.4\u001b[39;49m, \u001b[39m\"\u001b[39;49m\u001b[39mcoderhouse \u001b[39;49m\u001b[39m\"\u001b[39;49m)\n",
      "Cell \u001b[1;32mIn[37], line 8\u001b[0m, in \u001b[0;36mrepetir_nveces\u001b[1;34m(n, texto)\u001b[0m\n\u001b[0;32m      6\u001b[0m \u001b[39m# Verificar si el tipo de dato de 'n' es un número entero (int)\u001b[39;00m\n\u001b[0;32m      7\u001b[0m \u001b[39mif\u001b[39;00m \u001b[39mtype\u001b[39m(n) \u001b[39m!=\u001b[39m \u001b[39mint\u001b[39m:\n\u001b[1;32m----> 8\u001b[0m     \u001b[39mraise\u001b[39;00m \u001b[39mException\u001b[39;00m(\u001b[39m\"\u001b[39m\u001b[39mTypeError in n\u001b[39m\u001b[39m\"\u001b[39m)  \u001b[39m# Lanzar una excepción si no es un número entero\u001b[39;00m\n\u001b[0;32m     10\u001b[0m \u001b[39m# Devolver el resultado de repetir 'n' veces el contenido de 'texto'\u001b[39;00m\n\u001b[0;32m     11\u001b[0m \u001b[39mreturn\u001b[39;00m n \u001b[39m*\u001b[39m texto\n",
      "\u001b[1;31mException\u001b[0m: TypeError in n"
     ]
    }
   ],
   "source": [
    "repetir_nveces(3.4, \"coderhouse \")"
   ]
  },
  {
   "cell_type": "code",
   "execution_count": 41,
   "metadata": {},
   "outputs": [
    {
     "data": {
      "text/plain": [
       "'coderhouse coderhouse coderhouse '"
      ]
     },
     "execution_count": 41,
     "metadata": {},
     "output_type": "execute_result"
    }
   ],
   "source": [
    "repetir_nveces(3, \"coderhouse \")"
   ]
  },
  {
   "cell_type": "code",
   "execution_count": 42,
   "metadata": {},
   "outputs": [
    {
     "data": {
      "text/plain": [
       "'coderhouse coderhouse coderhouse '"
      ]
     },
     "execution_count": 42,
     "metadata": {},
     "output_type": "execute_result"
    }
   ],
   "source": [
    "repetir_nveces(3, \"coderhouse \")"
   ]
  },
  {
   "cell_type": "code",
   "execution_count": 43,
   "metadata": {},
   "outputs": [
    {
     "data": {
      "text/plain": [
       "'coderhouse coderhouse coderhouse coderhouse '"
      ]
     },
     "execution_count": 43,
     "metadata": {},
     "output_type": "execute_result"
    }
   ],
   "source": [
    "repetir_nveces(n=4, texto=\"coderhouse \") # cuando se llama la función se puede asociar el argumento"
   ]
  },
  {
   "cell_type": "code",
   "execution_count": 44,
   "metadata": {},
   "outputs": [
    {
     "data": {
      "text/plain": [
       "'coderhouse coderhouse coderhouse coderhouse coderhouse '"
      ]
     },
     "execution_count": 44,
     "metadata": {},
     "output_type": "execute_result"
    }
   ],
   "source": [
    "repetir_nveces(n=5, texto=\"coderhouse \") # siempre respetando los tipos"
   ]
  },
  {
   "cell_type": "code",
   "execution_count": 45,
   "metadata": {},
   "outputs": [],
   "source": [
    "x = 1 # int o integer -- entero\n",
    "\n",
    "x = 1.0 # float o flotante -- decimales\n",
    "\n",
    "x = 1 + 2j # complex -- complejos, un componente real y otro imaginario\n",
    "\n",
    "x = True # bool o boolean -- booleano o lógico verdadero o falso\n",
    "\n",
    "x = 'abc' # str o string -- cadena de texto\n",
    "\n",
    "x = None # NoneType"
   ]
  },
  {
   "cell_type": "code",
   "execution_count": 46,
   "metadata": {},
   "outputs": [
    {
     "data": {
      "text/plain": [
       "{1, 2, 3}"
      ]
     },
     "execution_count": 46,
     "metadata": {},
     "output_type": "execute_result"
    }
   ],
   "source": [
    "[1, 2, 3] # list -- Lista ordenada\n",
    "\n",
    "(1, 2, 3) # tuple -- tupla ordenada inmutable (no se puede cambiar)\n",
    "\n",
    "{'a':1, 'b':2, 'c':3} # dict -- Diccionario, conjunto de pares clave:valor\n",
    "\n",
    "{1, 2, 3} # set -- conjunto"
   ]
  },
  {
   "cell_type": "code",
   "execution_count": 47,
   "metadata": {},
   "outputs": [
    {
     "data": {
      "text/plain": [
       "[0, 1, 4, 9, 16, 25, 36, 49, 64, 81]"
      ]
     },
     "execution_count": 47,
     "metadata": {},
     "output_type": "execute_result"
    }
   ],
   "source": [
    "# creo dos listas, en el primer for, la dejo con rango 10, y la lista le agregolos valores de i\n",
    "# en la segunda lista, multiplico  el valor de la lista 1 (doble)\n",
    "# manera poco eficiente de generar una lista y elevar al cuadrado sus elementos, evitar este tipo de situaciones\n",
    "lista=[]\n",
    "lista_2=[]\n",
    "for i in range(10):\n",
    "    lista.append(i)\n",
    "for e in lista:\n",
    "    lista_2.append(e**2)\n",
    "lista_2\n"
   ]
  },
  {
   "cell_type": "code",
   "execution_count": 48,
   "metadata": {},
   "outputs": [
    {
     "data": {
      "text/plain": [
       "[0, 1, 4, 9, 16, 25, 36, 49, 64, 81]"
      ]
     },
     "execution_count": 48,
     "metadata": {},
     "output_type": "execute_result"
    }
   ],
   "source": [
    "# es el ejemplo anterior con un solo ciclo for, una forma más eficiente ( usando una lista nada mas)\n",
    "lista=[]\n",
    "for i in range(10):\n",
    "    lista.append(i**2)\n",
    "lista"
   ]
  }
 ],
 "metadata": {
  "kernelspec": {
   "display_name": "Python 3",
   "language": "python",
   "name": "python3"
  },
  "language_info": {
   "codemirror_mode": {
    "name": "ipython",
    "version": 3
   },
   "file_extension": ".py",
   "mimetype": "text/x-python",
   "name": "python",
   "nbconvert_exporter": "python",
   "pygments_lexer": "ipython3",
   "version": "3.11.1"
  },
  "orig_nbformat": 4
 },
 "nbformat": 4,
 "nbformat_minor": 2
}
