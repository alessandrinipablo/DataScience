{
 "cells": [
  {
   "cell_type": "code",
   "execution_count": 1,
   "id": "ccd63523",
   "metadata": {},
   "outputs": [],
   "source": [
    "import pandas as pd\n"
   ]
  },
  {
   "cell_type": "code",
   "execution_count": 2,
   "id": "0f05cc1d",
   "metadata": {},
   "outputs": [
    {
     "name": "stdout",
     "output_type": "stream",
     "text": [
      "0    50\n",
      "1    52\n",
      "2    54\n",
      "3    56\n",
      "4    58\n",
      "5    60\n",
      "6    62\n",
      "7    64\n",
      "8    66\n",
      "9    68\n",
      "dtype: int64\n"
     ]
    }
   ],
   "source": [
    "numeros = range (50,70,2)\n",
    "numeros_series=pd.Series(numeros)\n",
    "print (numeros_series)\n",
    "# declaro la variable numero dentro de un rango (inicio = 50, fin = 70 paso = 2,)\n",
    "# lo guardo en una variable llamada numeros_series y a eso lo igualo con pd.Series( argumento numero)\n",
    "# imprimo la variable numeros_series\n",
    "# me muestra que el tipo de doct type es int64\n"
   ]
  },
  {
   "cell_type": "code",
   "execution_count": 3,
   "id": "5420c03f",
   "metadata": {},
   "outputs": [
    {
     "name": "stdout",
     "output_type": "stream",
     "text": [
      "54\n"
     ]
    }
   ],
   "source": [
    "# acceder a diferentes elementos del indice \n",
    "# pongo la variable y entre corchetes por el numero del indice, ojo que arranca con indice 0\n",
    "print (numeros_series[2])"
   ]
  },
  {
   "cell_type": "code",
   "execution_count": 4,
   "id": "1c1b5b52",
   "metadata": {},
   "outputs": [
    {
     "name": "stdout",
     "output_type": "stream",
     "text": [
      "RangeIndex(start=0, stop=10, step=1)\n"
     ]
    }
   ],
   "source": [
    "# poniendo la consulta.index me muestra el inicio el fin y el paso \n",
    "print (numeros_series.index)"
   ]
  },
  {
   "cell_type": "code",
   "execution_count": 5,
   "id": "d3858866",
   "metadata": {},
   "outputs": [
    {
     "name": "stdout",
     "output_type": "stream",
     "text": [
      "[50 52 54 56 58 60 62 64 66 68]\n"
     ]
    }
   ],
   "source": [
    "# nombre.values me va a mostrar todos los valores de la lista\n",
    "print (numeros_series.values)"
   ]
  },
  {
   "cell_type": "code",
   "execution_count": 6,
   "id": "d8c744b0",
   "metadata": {},
   "outputs": [
    {
     "name": "stdout",
     "output_type": "stream",
     "text": [
      "primero    50\n",
      "segundo    52\n",
      "tercero    54\n",
      "cuarto     56\n",
      "quinto     58\n",
      "sexto      60\n",
      "septimo    62\n",
      "octavo     64\n",
      "noveno     66\n",
      "decimo     68\n",
      "dtype: int64\n"
     ]
    }
   ],
   "source": [
    "#  le voy a poner nombre a una fila (modificar los indices)\n",
    "# declaro en una lista los nombres que le voy a poner (tiene que ser la misma cantidad, ejemplo son 9 numeros, 9 nombres)\n",
    "# guardo en otra lista, le paso la variable que declare arriba, en este caso numero( valores que yo cree)\n",
    "# y al index, le paso la lista nombre fila.\n",
    "# imprimo  y me queda la serie con nombre y valor.\n",
    "nombre_fila =['primero','segundo','tercero','cuarto','quinto','sexto','septimo','octavo','noveno','decimo']\n",
    "numeros_series_2 = pd.Series(numeros, index=nombre_fila)\n",
    "print(numeros_series_2)"
   ]
  },
  {
   "cell_type": "code",
   "execution_count": 7,
   "id": "77a9f5f9",
   "metadata": {},
   "outputs": [
    {
     "name": "stdout",
     "output_type": "stream",
     "text": [
      "0       1\n",
      "1     1.2\n",
      "2    tres\n",
      "3    True\n",
      "dtype: object\n"
     ]
    }
   ],
   "source": [
    "# las series pueden tenes diferentes tipos de datos \n",
    "# creo la serie con valores entero, flotante, string y booleano\n",
    "# cuando ponga el print me va a mostrar los indices, los valores, y el doctype que es objeto.\n",
    "serie= pd.Series([1,1.2, 'tres', True])\n",
    "print(serie)\n"
   ]
  },
  {
   "cell_type": "code",
   "execution_count": 8,
   "id": "6c7800f9",
   "metadata": {},
   "outputs": [
    {
     "name": "stdout",
     "output_type": "stream",
     "text": [
      "a        1\n",
      "1        2\n",
      "b        3\n",
      "2        4\n",
      "c        5\n",
      "False    6\n",
      "dtype: int64\n"
     ]
    }
   ],
   "source": [
    "# los indices pueden tener diferentes tipos de datos\n",
    "serie1=pd.Series([1,2,3,4,5,6],index=['a',1,'b',2,'c',False])\n",
    "print(serie1)"
   ]
  },
  {
   "cell_type": "code",
   "execution_count": 9,
   "id": "d30d796b",
   "metadata": {},
   "outputs": [
    {
     "name": "stdout",
     "output_type": "stream",
     "text": [
      "fiat         4500\n",
      "renaul       5048\n",
      "ford         6500\n",
      "dodge ram    7500\n",
      "dtype: int64\n",
      "fiat         1500\n",
      "renaul       2500\n",
      "ford         3500\n",
      "dodge ram    6000\n",
      "dtype: int64\n"
     ]
    }
   ],
   "source": [
    "modelos=['fiat','renaul','ford','dodge ram']\n",
    "peso=[1500,2500,3500,6000]\n",
    "precios=[4500,5048,6500,7500]\n",
    "autos_peso=pd.Series(peso,index=modelos)\n",
    "autos_precios=pd.Series(precios,index=modelos)\n",
    "print(autos_precios)\n",
    "print(autos_peso)"
   ]
  },
  {
   "cell_type": "code",
   "execution_count": 10,
   "id": "933dc085",
   "metadata": {},
   "outputs": [
    {
     "name": "stdout",
     "output_type": "stream",
     "text": [
      "           Peso  Precio\n",
      "fiat       1500    4500\n",
      "renaul     2500    5048\n",
      "ford       3500    6500\n",
      "dodge ram  6000    7500\n"
     ]
    }
   ],
   "source": [
    "# ahora lo vamos a pasar a un dataframe\n",
    "#declaro una variable, ahora uso Dataframe\n",
    "# uso diccionario , la clave (key) entre comillas va el nombre de la columna, y el valor es la lista que quiero poner, \n",
    "# en este caso\n",
    "# el peso que declare anteriormente, lo mismo para los precios.\n",
    "# con un print muestro.\n",
    "autos=pd.DataFrame({'Peso':autos_peso,'Precio':autos_precios})\n",
    "print (autos)\n"
   ]
  },
  {
   "cell_type": "code",
   "execution_count": 11,
   "id": "1279f296",
   "metadata": {},
   "outputs": [
    {
     "name": "stdout",
     "output_type": "stream",
     "text": [
      "              0     1\n",
      "fiat       1500  4500\n",
      "renaul     2500  5048\n",
      "ford       3500  6500\n",
      "dodge ram  6000  7500\n"
     ]
    }
   ],
   "source": [
    "# otra forma de crear una df es concatenar series \n",
    "#  parámetro axis se utiliza para especificar el eje a lo largo del cual se realizarán ciertas operaciones.\n",
    "# axis=0: se refiere al eje vertical o las filas de un DataFrame. Al especificar axis=0,\n",
    "# l as operaciones se realizarán a lo largo de las filas.\n",
    "# axis=1: se refiere al eje horizontal o las columnas de un DataFrame.\n",
    "# Al especificar axis=1, las operaciones se realizarán a lo largo de las columnas.\n",
    "# si pongo axis=0 va uno debajo del otro, sino uno al lado del otro\n",
    "s=pd.concat([autos_peso, autos_precios], axis=1)\n",
    "print(s)"
   ]
  },
  {
   "cell_type": "code",
   "execution_count": 12,
   "id": "b4713223",
   "metadata": {},
   "outputs": [
    {
     "data": {
      "text/html": [
       "<div>\n",
       "<style scoped>\n",
       "    .dataframe tbody tr th:only-of-type {\n",
       "        vertical-align: middle;\n",
       "    }\n",
       "\n",
       "    .dataframe tbody tr th {\n",
       "        vertical-align: top;\n",
       "    }\n",
       "\n",
       "    .dataframe thead th {\n",
       "        text-align: right;\n",
       "    }\n",
       "</style>\n",
       "<table border=\"1\" class=\"dataframe\">\n",
       "  <thead>\n",
       "    <tr style=\"text-align: right;\">\n",
       "      <th></th>\n",
       "      <th>Peso</th>\n",
       "      <th>Precio</th>\n",
       "    </tr>\n",
       "  </thead>\n",
       "  <tbody>\n",
       "    <tr>\n",
       "      <th>fiat</th>\n",
       "      <td>1500</td>\n",
       "      <td>4500</td>\n",
       "    </tr>\n",
       "    <tr>\n",
       "      <th>renaul</th>\n",
       "      <td>2500</td>\n",
       "      <td>5048</td>\n",
       "    </tr>\n",
       "    <tr>\n",
       "      <th>ford</th>\n",
       "      <td>3500</td>\n",
       "      <td>6500</td>\n",
       "    </tr>\n",
       "    <tr>\n",
       "      <th>dodge ram</th>\n",
       "      <td>6000</td>\n",
       "      <td>7500</td>\n",
       "    </tr>\n",
       "  </tbody>\n",
       "</table>\n",
       "</div>"
      ],
      "text/plain": [
       "           Peso  Precio\n",
       "fiat       1500    4500\n",
       "renaul     2500    5048\n",
       "ford       3500    6500\n",
       "dodge ram  6000    7500"
      ]
     },
     "execution_count": 12,
     "metadata": {},
     "output_type": "execute_result"
    }
   ],
   "source": [
    "# renombrar la columnas \n",
    "# a la serie le pongo. rename( y la las columnas le asigno el diccionario que la clave(key) sea el nombre viejo y el valor el nuevo)\n",
    "df=s.rename(columns={0:'Peso',1:'Precio'})\n",
    "df"
   ]
  },
  {
   "cell_type": "code",
   "execution_count": 13,
   "id": "d431a6a9",
   "metadata": {},
   "outputs": [
    {
     "name": "stdout",
     "output_type": "stream",
     "text": [
      "              0     1\n",
      "fiat       1500  4500\n",
      "renaul     2500  5048\n",
      "ford       3500  6500\n",
      "dodge ram  6000  7500\n"
     ]
    }
   ],
   "source": [
    "print(s)"
   ]
  },
  {
   "cell_type": "code",
   "execution_count": 14,
   "id": "00779452",
   "metadata": {},
   "outputs": [
    {
     "name": "stdout",
     "output_type": "stream",
     "text": [
      "HOLA\n"
     ]
    }
   ],
   "source": [
    "print(\"HOLA\")"
   ]
  },
  {
   "cell_type": "code",
   "execution_count": 15,
   "id": "f5a8d464",
   "metadata": {},
   "outputs": [
    {
     "data": {
      "text/plain": [
       "fiat         4500\n",
       "renaul       5048\n",
       "ford         6500\n",
       "dodge ram    7500\n",
       "dtype: int64"
      ]
     },
     "execution_count": 15,
     "metadata": {},
     "output_type": "execute_result"
    }
   ],
   "source": [
    "autos_precios"
   ]
  },
  {
   "cell_type": "code",
   "execution_count": 16,
   "id": "53ea39cc",
   "metadata": {},
   "outputs": [
    {
     "data": {
      "text/plain": [
       "4500"
      ]
     },
     "execution_count": 16,
     "metadata": {},
     "output_type": "execute_result"
    }
   ],
   "source": [
    "# para ver el valor de una serie, pongo el nombre y entre parentesis lo que quiero mostrar\n",
    "autos_precios['fiat']\n",
    "# tambien se puede mediante el metodo loc\n",
    "autos_precios.loc['fiat']"
   ]
  },
  {
   "cell_type": "code",
   "execution_count": 17,
   "id": "c54a1e15",
   "metadata": {},
   "outputs": [
    {
     "data": {
      "text/plain": [
       "4500"
      ]
     },
     "execution_count": 17,
     "metadata": {},
     "output_type": "execute_result"
    }
   ],
   "source": [
    "# tambien se puede mediante el metodo loc\n",
    "autos_precios.loc['fiat']"
   ]
  },
  {
   "cell_type": "code",
   "execution_count": 18,
   "id": "e38f9787",
   "metadata": {},
   "outputs": [
    {
     "data": {
      "text/plain": [
       "4500"
      ]
     },
     "execution_count": 18,
     "metadata": {},
     "output_type": "execute_result"
    }
   ],
   "source": [
    "#son métodos utilizados para acceder y seleccionar datos en un DataFrame.\n",
    "# La diferencia entre ellos radica en la forma en que se realizan las selecciones:\n",
    "# loc utiliza etiquetas o nombres de índice, \n",
    "#mientras que iloc utiliza índices enteros basados en la posición\n",
    "autos_precios.loc['fiat']\n",
    "autos_precios.iloc[0]"
   ]
  },
  {
   "cell_type": "code",
   "execution_count": 19,
   "id": "d42ebb2c",
   "metadata": {},
   "outputs": [
    {
     "data": {
      "text/plain": [
       "4500"
      ]
     },
     "execution_count": 19,
     "metadata": {},
     "output_type": "execute_result"
    }
   ],
   "source": [
    "autos_precios.iloc[0] # es igual a ==>autos_precios.loc['fiat']\n"
   ]
  },
  {
   "cell_type": "code",
   "execution_count": 20,
   "id": "01d2265a",
   "metadata": {},
   "outputs": [
    {
     "data": {
      "text/plain": [
       "Index(['fiat', 'renaul', 'ford', 'dodge ram'], dtype='object')"
      ]
     },
     "execution_count": 20,
     "metadata": {},
     "output_type": "execute_result"
    }
   ],
   "source": [
    "# veo los indices\n",
    "autos.index"
   ]
  },
  {
   "cell_type": "code",
   "execution_count": 21,
   "id": "c51740fe",
   "metadata": {},
   "outputs": [
    {
     "data": {
      "text/plain": [
       "Index(['Peso', 'Precio'], dtype='object')"
      ]
     },
     "execution_count": 21,
     "metadata": {},
     "output_type": "execute_result"
    }
   ],
   "source": [
    "# muestro los nombres de las columnas\n",
    "autos.columns"
   ]
  },
  {
   "cell_type": "code",
   "execution_count": 22,
   "id": "178036e4",
   "metadata": {},
   "outputs": [
    {
     "data": {
      "text/plain": [
       "pandas.core.frame.DataFrame"
      ]
     },
     "execution_count": 22,
     "metadata": {},
     "output_type": "execute_result"
    }
   ],
   "source": [
    "# tipo de objeto\n",
    "type(autos)"
   ]
  },
  {
   "cell_type": "code",
   "execution_count": 23,
   "id": "567f7052",
   "metadata": {},
   "outputs": [
    {
     "name": "stdout",
     "output_type": "stream",
     "text": [
      "<class 'pandas.core.frame.DataFrame'>\n"
     ]
    }
   ],
   "source": [
    "# imprimo el tipo de objeto\n",
    "print (type(autos))"
   ]
  },
  {
   "cell_type": "code",
   "execution_count": 24,
   "id": "37e3cdc0",
   "metadata": {},
   "outputs": [
    {
     "data": {
      "text/plain": [
       "array([[1500, 4500],\n",
       "       [2500, 5048],\n",
       "       [3500, 6500],\n",
       "       [6000, 7500]], dtype=int64)"
      ]
     },
     "execution_count": 24,
     "metadata": {},
     "output_type": "execute_result"
    }
   ],
   "source": [
    "# muestro los valores del df\n",
    "autos.values"
   ]
  },
  {
   "cell_type": "code",
   "execution_count": 25,
   "id": "c596f517",
   "metadata": {},
   "outputs": [
    {
     "data": {
      "text/plain": [
       "fiat         1500\n",
       "renaul       2500\n",
       "ford         3500\n",
       "dodge ram    6000\n",
       "Name: Peso, dtype: int64"
      ]
     },
     "execution_count": 25,
     "metadata": {},
     "output_type": "execute_result"
    }
   ],
   "source": [
    "# traigo solo la columna\n",
    "autos['Peso']"
   ]
  },
  {
   "cell_type": "code",
   "execution_count": 26,
   "id": "a20ee788",
   "metadata": {},
   "outputs": [
    {
     "data": {
      "text/plain": [
       "1500"
      ]
     },
     "execution_count": 26,
     "metadata": {},
     "output_type": "execute_result"
    }
   ],
   "source": [
    "# traigo la columna peso, cuando el nombre de la fila coincida con fiat( ojo que es case sensitive)\n",
    "autos['Peso'].loc['fiat']"
   ]
  },
  {
   "cell_type": "code",
   "execution_count": 27,
   "id": "9d5196af",
   "metadata": {},
   "outputs": [
    {
     "data": {
      "text/plain": [
       "Series([], Name: Precio, dtype: int64)"
      ]
     },
     "execution_count": 27,
     "metadata": {},
     "output_type": "execute_result"
    }
   ],
   "source": [
    "# selecciono el df autos, busco por loc (cuando la columna peso sea igual a 2300, y luego muestro el precio)\n",
    "autos.loc[autos.Peso == '2300','Precio']"
   ]
  },
  {
   "cell_type": "code",
   "execution_count": 28,
   "id": "3dfc10f8",
   "metadata": {},
   "outputs": [
    {
     "data": {
      "text/plain": [
       "pandas.core.frame.DataFrame"
      ]
     },
     "execution_count": 28,
     "metadata": {},
     "output_type": "execute_result"
    }
   ],
   "source": [
    "type (autos)"
   ]
  },
  {
   "cell_type": "code",
   "execution_count": 29,
   "id": "6fe24c6e",
   "metadata": {},
   "outputs": [
    {
     "data": {
      "text/html": [
       "<div>\n",
       "<style scoped>\n",
       "    .dataframe tbody tr th:only-of-type {\n",
       "        vertical-align: middle;\n",
       "    }\n",
       "\n",
       "    .dataframe tbody tr th {\n",
       "        vertical-align: top;\n",
       "    }\n",
       "\n",
       "    .dataframe thead th {\n",
       "        text-align: right;\n",
       "    }\n",
       "</style>\n",
       "<table border=\"1\" class=\"dataframe\">\n",
       "  <thead>\n",
       "    <tr style=\"text-align: right;\">\n",
       "      <th></th>\n",
       "      <th>Peso</th>\n",
       "      <th>Precio</th>\n",
       "    </tr>\n",
       "  </thead>\n",
       "  <tbody>\n",
       "    <tr>\n",
       "      <th>fiat</th>\n",
       "      <td>1500</td>\n",
       "      <td>4500</td>\n",
       "    </tr>\n",
       "    <tr>\n",
       "      <th>renaul</th>\n",
       "      <td>2500</td>\n",
       "      <td>5048</td>\n",
       "    </tr>\n",
       "    <tr>\n",
       "      <th>ford</th>\n",
       "      <td>3500</td>\n",
       "      <td>6500</td>\n",
       "    </tr>\n",
       "    <tr>\n",
       "      <th>dodge ram</th>\n",
       "      <td>6000</td>\n",
       "      <td>7500</td>\n",
       "    </tr>\n",
       "  </tbody>\n",
       "</table>\n",
       "</div>"
      ],
      "text/plain": [
       "           Peso  Precio\n",
       "fiat       1500    4500\n",
       "renaul     2500    5048\n",
       "ford       3500    6500\n",
       "dodge ram  6000    7500"
      ]
     },
     "execution_count": 29,
     "metadata": {},
     "output_type": "execute_result"
    }
   ],
   "source": [
    "# muestro el df\n",
    "autos"
   ]
  },
  {
   "cell_type": "code",
   "execution_count": 30,
   "id": "70f06595",
   "metadata": {},
   "outputs": [
    {
     "data": {
      "text/html": [
       "<div>\n",
       "<style scoped>\n",
       "    .dataframe tbody tr th:only-of-type {\n",
       "        vertical-align: middle;\n",
       "    }\n",
       "\n",
       "    .dataframe tbody tr th {\n",
       "        vertical-align: top;\n",
       "    }\n",
       "\n",
       "    .dataframe thead th {\n",
       "        text-align: right;\n",
       "    }\n",
       "</style>\n",
       "<table border=\"1\" class=\"dataframe\">\n",
       "  <thead>\n",
       "    <tr style=\"text-align: right;\">\n",
       "      <th></th>\n",
       "      <th>fiat</th>\n",
       "      <th>renaul</th>\n",
       "      <th>ford</th>\n",
       "      <th>dodge ram</th>\n",
       "    </tr>\n",
       "  </thead>\n",
       "  <tbody>\n",
       "    <tr>\n",
       "      <th>Peso</th>\n",
       "      <td>1500</td>\n",
       "      <td>2500</td>\n",
       "      <td>3500</td>\n",
       "      <td>6000</td>\n",
       "    </tr>\n",
       "    <tr>\n",
       "      <th>Precio</th>\n",
       "      <td>4500</td>\n",
       "      <td>5048</td>\n",
       "      <td>6500</td>\n",
       "      <td>7500</td>\n",
       "    </tr>\n",
       "  </tbody>\n",
       "</table>\n",
       "</div>"
      ],
      "text/plain": [
       "        fiat  renaul  ford  dodge ram\n",
       "Peso    1500    2500  3500       6000\n",
       "Precio  4500    5048  6500       7500"
      ]
     },
     "execution_count": 30,
     "metadata": {},
     "output_type": "execute_result"
    }
   ],
   "source": [
    "# si pongo la consulta autos.T, me traspone el DF, osea me cambia filas por columnas.\n",
    "autos.T"
   ]
  },
  {
   "cell_type": "code",
   "execution_count": 31,
   "id": "3f4efe49",
   "metadata": {},
   "outputs": [
    {
     "data": {
      "text/plain": [
       "primero    50\n",
       "segundo    52\n",
       "tercero    54\n",
       "cuarto     56\n",
       "quinto     58\n",
       "sexto      60\n",
       "septimo    62\n",
       "octavo     64\n",
       "noveno     66\n",
       "decimo     68\n",
       "dtype: int64"
      ]
     },
     "execution_count": 31,
     "metadata": {},
     "output_type": "execute_result"
    }
   ],
   "source": [
    "# Otra forma de agregar series o df es con la operacion .add\n",
    "numeros_series_2"
   ]
  },
  {
   "cell_type": "code",
   "execution_count": 32,
   "id": "e9573fbf",
   "metadata": {},
   "outputs": [
    {
     "data": {
      "text/plain": [
       "primero0    30\n",
       "segundo     32\n",
       "tercero     34\n",
       "cuarto      36\n",
       "quinto      38\n",
       "sexto       40\n",
       "septimo     42\n",
       "octavo      44\n",
       "noveno      46\n",
       "decimo      48\n",
       "dtype: int64"
      ]
     },
     "execution_count": 32,
     "metadata": {},
     "output_type": "execute_result"
    }
   ],
   "source": [
    "# creo la serie 3\n",
    "numeros = range (30,50,2)\n",
    "numeros_en_texto=['primero0','segundo','tercero','cuarto','quinto','sexto','septimo','octavo','noveno','decimo',]\n",
    "numeros_series_3= pd.Series(numeros,index=numeros_en_texto)\n",
    "numeros_series_3"
   ]
  },
  {
   "cell_type": "code",
   "execution_count": 33,
   "id": "5c0ac56a",
   "metadata": {},
   "outputs": [
    {
     "name": "stdout",
     "output_type": "stream",
     "text": [
      "cuarto       92.0\n",
      "decimo      116.0\n",
      "noveno      112.0\n",
      "octavo      108.0\n",
      "primero       NaN\n",
      "primero0      NaN\n",
      "quinto       96.0\n",
      "segundo      84.0\n",
      "septimo     104.0\n",
      "sexto       100.0\n",
      "tercero      88.0\n",
      "dtype: float64\n"
     ]
    }
   ],
   "source": [
    "# al momento de sumar dos series o df, si uno de los dos tiene valores nulos o nan( not a number) el resultado sera nan\n",
    "# porque sumar un numero con nada es nada.\n",
    "numeros_nan = numeros_series_2+numeros_series_3\n",
    "print(numeros_nan)\n",
    "# como las columnas se llaman distinto primero y primeroo, al no ser iguales se suman por separado, y aparace el nan"
   ]
  },
  {
   "cell_type": "code",
   "execution_count": 34,
   "id": "54493ed8",
   "metadata": {},
   "outputs": [
    {
     "data": {
      "text/plain": [
       "cuarto       92.0\n",
       "decimo      116.0\n",
       "noveno      112.0\n",
       "octavo      108.0\n",
       "primero       NaN\n",
       "primero0      NaN\n",
       "quinto       96.0\n",
       "segundo      84.0\n",
       "septimo     104.0\n",
       "sexto       100.0\n",
       "tercero      88.0\n",
       "dtype: float64"
      ]
     },
     "execution_count": 34,
     "metadata": {},
     "output_type": "execute_result"
    }
   ],
   "source": [
    "# agrego dos series con el metodo add ( la dif es que ahora no creo una tercera, sino la agrego a series2)\n",
    "numeros_series_2.add(numeros_series_3)"
   ]
  },
  {
   "cell_type": "code",
   "execution_count": 35,
   "id": "06ffb165",
   "metadata": {},
   "outputs": [
    {
     "name": "stdout",
     "output_type": "stream",
     "text": [
      "segundo    84\n",
      "tercero    88\n",
      "dtype: int64\n"
     ]
    }
   ],
   "source": [
    "# para ver si los numeros son nullos o NaN\n",
    "# PUEDO SUMAR SOLO LOS INDICES ( sumo indice 1 y 2 ( el 3 no ))\n",
    "serie_parcial=numeros_series_3 [1:3]+numeros_series_2[1:3]\n",
    "print(serie_parcial)"
   ]
  },
  {
   "cell_type": "code",
   "execution_count": 36,
   "id": "bc8935c7",
   "metadata": {},
   "outputs": [
    {
     "name": "stdout",
     "output_type": "stream",
     "text": [
      "numeros\n",
      "0    10\n",
      "1    20\n",
      "2    30\n",
      "3    40\n",
      "Name: Ejemplo, dtype: int64\n"
     ]
    }
   ],
   "source": [
    "# Renombrar los ejes\n",
    "# creo la serie con el nombre ejemplo,  y  pongo el nombre numeros al indice\n",
    "serie= pd.Series([10,20,30,40], name='Ejemplo').rename_axis('numeros')\n",
    "print(serie)"
   ]
  },
  {
   "cell_type": "code",
   "execution_count": 37,
   "id": "eb1e5bf2",
   "metadata": {},
   "outputs": [
    {
     "name": "stdout",
     "output_type": "stream",
     "text": [
      "Letras\n",
      "0    10\n",
      "1    20\n",
      "2    30\n",
      "3    40\n",
      "Name: Ejemplo, dtype: int64\n"
     ]
    }
   ],
   "source": [
    " # asignar un nombre al indice con rename_axis() ()\n",
    "# Por defecto, un DataFrame o Serie puede tener nombres en los ejes. Por ejemplo, un DataFrame puede tener \n",
    "# nombres en el índice de filas (eje 0) y en las columnas (eje 1). Sin embargo, en ocasiones puede ser necesario\n",
    "# cambiar esos nombres a algo más descriptivo o apropiado para tus datos.\n",
    "# asignar un nombre a la columna con rename\n",
    "serie=serie.rename_axis('Letras')\n",
    "print(serie)"
   ]
  },
  {
   "cell_type": "code",
   "execution_count": 38,
   "id": "24433955",
   "metadata": {},
   "outputs": [
    {
     "name": "stdout",
     "output_type": "stream",
     "text": [
      "Letras\n",
      "0    10\n",
      "1    20\n",
      "2    30\n",
      "3    40\n",
      "Name: Valores, dtype: int64\n"
     ]
    }
   ],
   "source": [
    "# renombro la serie\n",
    "serie=serie.rename('Valores')\n",
    "print(serie)"
   ]
  },
  {
   "cell_type": "code",
   "execution_count": 39,
   "id": "d619fd45",
   "metadata": {},
   "outputs": [
    {
     "name": "stdout",
     "output_type": "stream",
     "text": [
      "primero    50\n",
      "segundo    52\n",
      "tercero    54\n",
      "cuarto     56\n",
      "quinto     58\n",
      "sexto      60\n",
      "septimo    62\n",
      "octavo     64\n",
      "noveno     66\n",
      "decimo     68\n",
      "dtype: int64\n"
     ]
    }
   ],
   "source": [
    "# lidiando con valores faltantes\n",
    "# sumo los series, que van a tener NaN\n",
    "# si no quiero que aparecezca valores NAN PUEDO USAR \n",
    "# FILL_VALUE=0\n",
    "numeros_series_2[0:15].add(numeros_series_3[5:8], fill_value=0)\n",
    "print (numeros_series_2)"
   ]
  },
  {
   "cell_type": "code",
   "execution_count": 40,
   "id": "5791451a",
   "metadata": {},
   "outputs": [
    {
     "data": {
      "text/plain": [
       "cuarto       92.0\n",
       "decimo      116.0\n",
       "noveno      112.0\n",
       "octavo      108.0\n",
       "primero       NaN\n",
       "primero0      NaN\n",
       "quinto       96.0\n",
       "segundo      84.0\n",
       "septimo     104.0\n",
       "sexto       100.0\n",
       "tercero      88.0\n",
       "dtype: float64"
      ]
     },
     "execution_count": 40,
     "metadata": {},
     "output_type": "execute_result"
    }
   ],
   "source": [
    "numeros_nan"
   ]
  },
  {
   "cell_type": "code",
   "execution_count": 41,
   "id": "3a4e46e8",
   "metadata": {
    "scrolled": true
   },
   "outputs": [
    {
     "data": {
      "text/plain": [
       "cuarto       92.0\n",
       "decimo      116.0\n",
       "noveno      112.0\n",
       "octavo      108.0\n",
       "primero       0.0\n",
       "primero0      0.0\n",
       "quinto       96.0\n",
       "segundo      84.0\n",
       "septimo     104.0\n",
       "sexto       100.0\n",
       "tercero      88.0\n",
       "dtype: float64"
      ]
     },
     "execution_count": 41,
     "metadata": {},
     "output_type": "execute_result"
    }
   ],
   "source": [
    "# para que no aparezcan NaN, los reemplazo por cero\n",
    "numeros_nan.fillna(0)"
   ]
  },
  {
   "cell_type": "code",
   "execution_count": 42,
   "id": "9d20c3b0",
   "metadata": {},
   "outputs": [
    {
     "name": "stdout",
     "output_type": "stream",
     "text": [
      "cuarto       92.0\n",
      "decimo      116.0\n",
      "noveno      112.0\n",
      "octavo      108.0\n",
      "primero     100.0\n",
      "primero0    100.0\n",
      "quinto       96.0\n",
      "segundo      84.0\n",
      "septimo     104.0\n",
      "sexto       100.0\n",
      "tercero      88.0\n",
      "dtype: float64\n"
     ]
    }
   ],
   "source": [
    "# aca mejorando, los podemos reemplazar por la mediam (mean)\n",
    "#saco la media\n",
    "media = numeros_nan.mean()\n",
    "# creo una nueva seria  que cuando encuentre nan los reemplaze con la media\n",
    "\n",
    "serie_sin_nan = numeros_nan.fillna(media)\n",
    "print(serie_sin_nan)"
   ]
  },
  {
   "cell_type": "code",
   "execution_count": 43,
   "id": "bb4a1b4f",
   "metadata": {},
   "outputs": [
    {
     "data": {
      "text/plain": [
       "cuarto      92.0\n",
       "decimo     116.0\n",
       "noveno     112.0\n",
       "octavo     108.0\n",
       "quinto      96.0\n",
       "segundo     84.0\n",
       "septimo    104.0\n",
       "sexto      100.0\n",
       "tercero     88.0\n",
       "dtype: float64"
      ]
     },
     "execution_count": 43,
     "metadata": {},
     "output_type": "execute_result"
    }
   ],
   "source": [
    "# elimina los valores que tienen valores nan\n",
    "numeros_nan.dropna()"
   ]
  },
  {
   "cell_type": "code",
   "execution_count": 44,
   "id": "95f2dfbb",
   "metadata": {},
   "outputs": [
    {
     "name": "stdout",
     "output_type": "stream",
     "text": [
      "C:\\Users\\Usuario\n"
     ]
    }
   ],
   "source": [
    "import os\n",
    "print(os.getcwd())\n"
   ]
  },
  {
   "cell_type": "code",
   "execution_count": 45,
   "id": "d6cf7a5e",
   "metadata": {},
   "outputs": [],
   "source": [
    "import os\n",
    "\n",
    "# Ruta absoluta al nuevo directorio\n",
    "new_directory = 'C:/Users/Usuario/Desktop/Data Science/'\n",
    "\n",
    "# Cambiar el directorio de trabajo\n",
    "os.chdir(new_directory)\n"
   ]
  },
  {
   "cell_type": "code",
   "execution_count": 46,
   "id": "f8b4a0e2",
   "metadata": {},
   "outputs": [
    {
     "name": "stdout",
     "output_type": "stream",
     "text": [
      "C:\\Users\\Usuario\\Desktop\\Data Science\n"
     ]
    }
   ],
   "source": [
    "import os\n",
    "\n",
    "# Verificar el directorio actual\n",
    "current_directory = os.getcwd()\n",
    "print(current_directory)\n"
   ]
  },
  {
   "cell_type": "code",
   "execution_count": 47,
   "id": "b135eafe",
   "metadata": {},
   "outputs": [
    {
     "name": "stdout",
     "output_type": "stream",
     "text": [
      "HOLA MUNDO\n"
     ]
    }
   ],
   "source": [
    "print (\"HOLA MUNDO\")"
   ]
  },
  {
   "cell_type": "code",
   "execution_count": null,
   "id": "3970a50c",
   "metadata": {},
   "outputs": [],
   "source": []
  }
 ],
 "metadata": {
  "kernelspec": {
   "display_name": "Python 3 (ipykernel)",
   "language": "python",
   "name": "python3"
  },
  "language_info": {
   "codemirror_mode": {
    "name": "ipython",
    "version": 3
   },
   "file_extension": ".py",
   "mimetype": "text/x-python",
   "name": "python",
   "nbconvert_exporter": "python",
   "pygments_lexer": "ipython3",
   "version": "3.10.9"
  }
 },
 "nbformat": 4,
 "nbformat_minor": 5
}
