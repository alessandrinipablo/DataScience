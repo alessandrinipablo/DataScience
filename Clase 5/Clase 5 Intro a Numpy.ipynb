{
 "cells": [
  {
   "cell_type": "code",
   "execution_count": null,
   "metadata": {},
   "outputs": [],
   "source": [
    "# Ejemplo de lista\n",
    "lista = [1, 2, 3, 4, 5]\n",
    "# Descripción: Una lista es una colección ordenada y mutable de elementos. \n",
    "# En este caso, la lista contiene los números del 1 al 5.\n",
    "\n",
    "# Ejemplo de tupla\n",
    "tupla = (1, 2, 3, 4, 5)\n",
    "# Descripción: Una tupla es similar a una lista, pero es inmutable, lo que significa que\n",
    "# no se pueden modificar sus elementos una vez creada. Aquí, la tupla contiene los números del 1 al 5.\n",
    "\n",
    "# Ejemplo de diccionario\n",
    "diccionario = {'a': 1, 'b': 2, 'c': 3, 'd': 4, 'e': 5}\n",
    "# Descripción: Un diccionario es una colección de pares clave-valor.\n",
    "# En este caso, las claves son letras ('a', 'b', 'c', 'd', 'e') y los valores son los números del 1 al 5.\n",
    "\n",
    "# Ejemplo de conjunto o set\n",
    "conjunto = {1, 2, 3, 4, 5}\n",
    "# Descripción: Un conjunto es una colección no ordenada y sin elementos duplicados. \n",
    "# Aquí, el conjunto contiene los números del 1 al 5.\n",
    "\n"
   ]
  },
  {
   "cell_type": "code",
   "execution_count": 1,
   "metadata": {},
   "outputs": [
    {
     "name": "stdout",
     "output_type": "stream",
     "text": [
      "NumPy está instalado. Versión: 1.24.2\n"
     ]
    }
   ],
   "source": [
    "import numpy as np\n",
    "\n",
    "try:\n",
    "    np.version.version\n",
    "    print(\"NumPy está instalado. Versión:\", np.version.version)\n",
    "except ImportError:\n",
    "    print(\"NumPy no está instalado.\")\n",
    "import numpy "
   ]
  },
  {
   "cell_type": "code",
   "execution_count": 2,
   "metadata": {},
   "outputs": [
    {
     "data": {
      "text/plain": [
       "array([0, 1, 2, 3, 4, 5, 6, 7, 8, 9])"
      ]
     },
     "execution_count": 2,
     "metadata": {},
     "output_type": "execute_result"
    }
   ],
   "source": [
    "# los np arrays  pueden ser en tres d\n",
    "# 1d vectores\n",
    "# 2d matriz\n",
    "# 3d tensores\n",
    "# cracion de arreglos \n",
    "\n",
    "# aca le paso el rango que quiero\n",
    "npa= np.array(range(10))\n",
    "npa"
   ]
  },
  {
   "cell_type": "code",
   "execution_count": 5,
   "metadata": {},
   "outputs": [
    {
     "name": "stdout",
     "output_type": "stream",
     "text": [
      "[ 0  1  2  3  4  5  6  7  8  9 85]\n"
     ]
    }
   ],
   "source": [
    "# agregar nuevo valor \n",
    "valor=85\n",
    "# al array previamente nombrado le asigno np.append(pasando como argumento el array mas el nuevo valor)\n",
    "npa=np.append(npa,valor) \n",
    "print(npa)"
   ]
  },
  {
   "cell_type": "code",
   "execution_count": 6,
   "metadata": {},
   "outputs": [
    {
     "name": "stdout",
     "output_type": "stream",
     "text": [
      "[ 0  1  2  3  4  6  7  8  9 85]\n"
     ]
    }
   ],
   "source": [
    "# eliminar por posicion \n",
    "index_eliminar=5\n",
    "npa=np.delete(npa,index_eliminar)\n",
    "print(npa)"
   ]
  },
  {
   "cell_type": "code",
   "execution_count": 7,
   "metadata": {},
   "outputs": [
    {
     "name": "stdout",
     "output_type": "stream",
     "text": [
      "[0. 0. 0. 0. 0. 0. 0. 0. 0. 0.]\n"
     ]
    }
   ],
   "source": [
    "# creo un array con 10 numeros iguales por defecto son float\n",
    "np_ceros=np.zeros(10)\n",
    "print(np_ceros)"
   ]
  },
  {
   "cell_type": "code",
   "execution_count": 8,
   "metadata": {},
   "outputs": [
    {
     "name": "stdout",
     "output_type": "stream",
     "text": [
      "[0 0 0 0 0 0 0 0 0 0]\n"
     ]
    }
   ],
   "source": [
    "# aca le aclaro que sean enteros\n",
    "np_ceros_int=np.zeros(10,dtype=int)\n",
    "print(np_ceros_int)"
   ]
  },
  {
   "cell_type": "code",
   "execution_count": 10,
   "metadata": {},
   "outputs": [
    {
     "name": "stdout",
     "output_type": "stream",
     "text": [
      "[1. 1. 1. 1. 1. 1. 1. 1. 1. 1.]\n"
     ]
    }
   ],
   "source": [
    "np_uno=np.ones(10)\n",
    "print(np_uno)"
   ]
  },
  {
   "cell_type": "code",
   "execution_count": 11,
   "metadata": {},
   "outputs": [
    {
     "name": "stdout",
     "output_type": "stream",
     "text": [
      "[256 256 256 256 256 256 256 256 256 256]\n"
     ]
    }
   ],
   "source": [
    "# genero un arreglo por tamaño y valor\n",
    "np_relleno=np.full(10,256)\n",
    "print(np_relleno)"
   ]
  },
  {
   "cell_type": "code",
   "execution_count": 13,
   "metadata": {},
   "outputs": [
    {
     "name": "stdout",
     "output_type": "stream",
     "text": [
      "[0 1 2 3 4 5 6 7 8 9]\n"
     ]
    }
   ],
   "source": [
    "np_arreglo=np.array(range(10))\n",
    "print(np_arreglo)"
   ]
  },
  {
   "cell_type": "code",
   "execution_count": 15,
   "metadata": {},
   "outputs": [
    {
     "name": "stdout",
     "output_type": "stream",
     "text": [
      "[0. 1. 2. 3. 4. 5. 6. 7. 8. 9.]\n"
     ]
    }
   ],
   "source": [
    "np_arreglo=np.arange(10.0) # parecido al range, nada mas que aca tiene flotante\n",
    "print(np_arreglo)"
   ]
  },
  {
   "cell_type": "code",
   "execution_count": 18,
   "metadata": {},
   "outputs": [
    {
     "data": {
      "text/plain": [
       "array([0, 1, 2, 3, 4, 5, 6, 7, 8, 9])"
      ]
     },
     "execution_count": 18,
     "metadata": {},
     "output_type": "execute_result"
    }
   ],
   "source": [
    "# igual que el range\n",
    "np_rango=np.arange(10)\n",
    "np_rango"
   ]
  },
  {
   "cell_type": "code",
   "execution_count": 19,
   "metadata": {},
   "outputs": [
    {
     "data": {
      "text/plain": [
       "array([ 5, 10, 15, 20])"
      ]
     },
     "execution_count": 19,
     "metadata": {},
     "output_type": "execute_result"
    }
   ],
   "source": [
    "np_rango=np.arange(5,25,5)\n",
    "np_rango"
   ]
  },
  {
   "cell_type": "code",
   "execution_count": 17,
   "metadata": {},
   "outputs": [
    {
     "data": {
      "text/plain": [
       "array([[5, 4, 1, 0],\n",
       "       [5, 5, 4, 5],\n",
       "       [7, 3, 6, 3]])"
      ]
     },
     "execution_count": 17,
     "metadata": {},
     "output_type": "execute_result"
    }
   ],
   "source": [
    "#nd arrays con valores aleatorios y de dos dimensiones\n",
    "# creo un arreglo  que los numeros sean de 0 a 10 sin incluir, que sean 4 columnas de tres valores cada una.\n",
    "# el randon es para aleatorios\n",
    "np_random_dimensiones=np.random.randint(10,size=(3,4))\n",
    "np_random_dimensiones\n"
   ]
  },
  {
   "cell_type": "code",
   "execution_count": 26,
   "metadata": {},
   "outputs": [
    {
     "data": {
      "text/plain": [
       "0"
      ]
     },
     "execution_count": 26,
     "metadata": {},
     "output_type": "execute_result"
    }
   ],
   "source": [
    "#Propiedades de los arrays\n",
    "np_random_dimensiones.ndim # dimensiones\n",
    "np_random_dimensiones.shape #filas y columnas\n",
    "np_random_dimensiones.size # tamaño (filas* columnas)\n",
    "np_random_dimensiones.max() # devuelve el max\n",
    "np_random_dimensiones.min() # devuelve el min"
   ]
  },
  {
   "cell_type": "code",
   "execution_count": 27,
   "metadata": {},
   "outputs": [
    {
     "data": {
      "text/plain": [
       "array([5, 4, 1, 0, 5, 5, 4, 5, 7, 3, 6, 3])"
      ]
     },
     "execution_count": 27,
     "metadata": {},
     "output_type": "execute_result"
    }
   ],
   "source": [
    "# devuelve una copia unidimensinal\n",
    "np_random_dimensiones.flatten()"
   ]
  },
  {
   "cell_type": "code",
   "execution_count": 28,
   "metadata": {},
   "outputs": [
    {
     "name": "stdout",
     "output_type": "stream",
     "text": [
      "int32\n"
     ]
    }
   ],
   "source": [
    "# me sirve para ver los tipos de datos de los arreglos\n",
    "print(np_random_dimensiones.dtype)"
   ]
  },
  {
   "cell_type": "code",
   "execution_count": 29,
   "metadata": {},
   "outputs": [
    {
     "name": "stdout",
     "output_type": "stream",
     "text": [
      "Tipo de dato int: int32\n",
      "Tipo de dato float: float64\n",
      "Tipo de dato bool: bool\n",
      "Tipo de dato str: <U5\n",
      "Tipo de dato object: <U11\n",
      "Tipo de dato complex: complex128\n",
      "Tipo de dato int: int32\n",
      "Tipo de dato int8: int8\n",
      "Tipo de dato int16: int16\n",
      "Tipo de dato int32: int32\n",
      "Tipo de dato int64: int64\n",
      "Tipo de dato uint: uint32\n",
      "Tipo de dato float16: float16\n",
      "Tipo de dato float32: float32\n",
      "Tipo de dato complex64: complex64\n",
      "Tipo de dato bool8: bool\n"
     ]
    },
    {
     "name": "stderr",
     "output_type": "stream",
     "text": [
      "C:\\Users\\Usuario\\AppData\\Local\\Temp\\ipykernel_19580\\2459202723.py:63: DeprecationWarning: `np.bool8` is a deprecated alias for `np.bool_`.  (Deprecated NumPy 1.24)\n",
      "  arr_bool8 = np.array([True, False, True], dtype=np.bool8)\n"
     ]
    }
   ],
   "source": [
    "import numpy as np\n",
    "\n",
    "# Tipo de dato int (entero)\n",
    "arr_int = np.array([1, 2, 3])\n",
    "print(\"Tipo de dato int:\", arr_int.dtype)  # int64\n",
    "\n",
    "# Tipo de dato float (punto flotante)\n",
    "arr_float = np.array([1.0, 2.5, 3.7])\n",
    "print(\"Tipo de dato float:\", arr_float.dtype)  # float64\n",
    "\n",
    "# Tipo de dato bool (booleano)\n",
    "arr_bool = np.array([True, False, True])\n",
    "print(\"Tipo de dato bool:\", arr_bool.dtype)  # bool\n",
    "\n",
    "# Tipo de dato str (cadena de texto)\n",
    "arr_str = np.array(['hola', 'mundo'])\n",
    "print(\"Tipo de dato str:\", arr_str.dtype)  # <U5 (cadena de caracteres de longitud máxima 5)\n",
    "\n",
    "# Tipo de dato object (objeto genérico)\n",
    "arr_obj = np.array([1, 'dos', True])\n",
    "print(\"Tipo de dato object:\", arr_obj.dtype)  # object\n",
    "\n",
    "# Tipo de dato complex (número complejo)\n",
    "arr_complex = np.array([2 + 3j, 4 - 1j])\n",
    "print(\"Tipo de dato complex:\", arr_complex.dtype)  # complex128 (números complejos de 128 bits)\n",
    "\n",
    "import numpy as np\n",
    "\n",
    "# Tipo de dato int (entero)\n",
    "arr_int = np.array([1, 2, 3])\n",
    "print(\"Tipo de dato int:\", arr_int.dtype)  # int64\n",
    "\n",
    "# Tipos de datos de enteros de tamaño fijo\n",
    "arr_int8 = np.array([1, 2, 3], dtype=np.int8)\n",
    "print(\"Tipo de dato int8:\", arr_int8.dtype)  # int8\n",
    "\n",
    "arr_int16 = np.array([1, 2, 3], dtype=np.int16)\n",
    "print(\"Tipo de dato int16:\", arr_int16.dtype)  # int16\n",
    "\n",
    "arr_int32 = np.array([1, 2, 3], dtype=np.int32)\n",
    "print(\"Tipo de dato int32:\", arr_int32.dtype)  # int32\n",
    "\n",
    "arr_int64 = np.array([1, 2, 3], dtype=np.int64)\n",
    "print(\"Tipo de dato int64:\", arr_int64.dtype)  # int64\n",
    "import numpy as np\n",
    "\n",
    "# Tipo de dato uint (entero sin signo)\n",
    "arr_uint = np.array([1, 2, 3], dtype=np.uint)\n",
    "print(\"Tipo de dato uint:\", arr_uint.dtype)  # uint64\n",
    "\n",
    "# Tipo de dato float de precisión reducida\n",
    "arr_float16 = np.array([1.0, 2.5, 3.7], dtype=np.float16)\n",
    "print(\"Tipo de dato float16:\", arr_float16.dtype)  # float16\n",
    "\n",
    "arr_float32 = np.array([1.0, 2.5, 3.7], dtype=np.float32)\n",
    "print(\"Tipo de dato float32:\", arr_float32.dtype)  # float32\n",
    "\n",
    "# Tipo de dato complex de precisión reducida\n",
    "arr_complex64 = np.array([2 + 3j, 4 - 1j], dtype=np.complex64)\n",
    "print(\"Tipo de dato complex64:\", arr_complex64.dtype)  # complex64\n",
    "\n",
    "# Tipo de dato booleano de precisión reducida\n",
    "arr_bool8 = np.array([True, False, True], dtype=np.bool8)\n",
    "print(\"Tipo de dato bool8:\", arr_bool8.dtype)  # bool8\n"
   ]
  },
  {
   "cell_type": "code",
   "execution_count": 30,
   "metadata": {},
   "outputs": [
    {
     "data": {
      "text/plain": [
       "dtype('int32')"
      ]
     },
     "execution_count": 30,
     "metadata": {},
     "output_type": "execute_result"
    }
   ],
   "source": [
    "np_random_dimensiones.dtype\n"
   ]
  },
  {
   "cell_type": "code",
   "execution_count": 31,
   "metadata": {},
   "outputs": [
    {
     "name": "stdout",
     "output_type": "stream",
     "text": [
      "Tamaño de cada elemento (itemsize): 4\n",
      "Tamaño total en bytes (nbytes): 20\n"
     ]
    }
   ],
   "source": [
    "# uno es el tamaño de cada elemento, otro el tamaño del arreglo\n",
    "arr = np.array([1, 2, 3, 4, 5])\n",
    "print(\"Tamaño de cada elemento (itemsize):\", arr.itemsize)  # 8 bytes (para enteros de 64 bits)\n",
    "print(\"Tamaño total en bytes (nbytes):\", arr.nbytes)  # 40 bytes (5 elementos * 8 bytes por elemento)\n"
   ]
  },
  {
   "cell_type": "code",
   "execution_count": 32,
   "metadata": {},
   "outputs": [
    {
     "name": "stdout",
     "output_type": "stream",
     "text": [
      "Arreglo de enteros int32:\n",
      "[1 2 3]\n",
      "Tipo de datos: int32\n",
      "Tamaño en bytes: 4\n",
      "\n",
      "Arreglo de enteros int64:\n",
      "[1 2 3]\n",
      "Tipo de datos: int64\n",
      "Tamaño en bytes: 8\n",
      "\n",
      "Arreglo de números de coma flotante float32:\n",
      "[1. 2. 3.]\n",
      "Tipo de datos: float32\n",
      "Tamaño en bytes: 4\n",
      "\n",
      "Arreglo de números de coma flotante float64:\n",
      "[1. 2. 3.]\n",
      "Tipo de datos: float64\n",
      "Tamaño en bytes: 8\n"
     ]
    }
   ],
   "source": [
    "import numpy as np\n",
    "\n",
    "# Crear un arreglo de enteros utilizando int32\n",
    "arr_int32 = np.array([1, 2, 3], dtype=np.int32)\n",
    "print(\"Arreglo de enteros int32:\")\n",
    "print(arr_int32)\n",
    "print(\"Tipo de datos:\", arr_int32.dtype)\n",
    "print(\"Tamaño en bytes:\", arr_int32.itemsize)\n",
    "\n",
    "# Crear un arreglo de enteros utilizando int64\n",
    "arr_int64 = np.array([1, 2, 3], dtype=np.int64)\n",
    "print(\"\\nArreglo de enteros int64:\")\n",
    "print(arr_int64)\n",
    "print(\"Tipo de datos:\", arr_int64.dtype)\n",
    "print(\"Tamaño en bytes:\", arr_int64.itemsize)\n",
    "\n",
    "# Crear un arreglo de números de coma flotante utilizando float32\n",
    "arr_float32 = np.array([1.0, 2.0, 3.0], dtype=np.float32)\n",
    "print(\"\\nArreglo de números de coma flotante float32:\")\n",
    "print(arr_float32)\n",
    "print(\"Tipo de datos:\", arr_float32.dtype)\n",
    "print(\"Tamaño en bytes:\", arr_float32.itemsize)\n",
    "\n",
    "# Crear un arreglo de números de coma flotante utilizando float64\n",
    "arr_float64 = np.array([1.0, 2.0, 3.0], dtype=np.float64)\n",
    "print(\"\\nArreglo de números de coma flotante float64:\")\n",
    "print(arr_float64)\n",
    "print(\"Tipo de datos:\", arr_float64.dtype)\n",
    "print(\"Tamaño en bytes:\", arr_float64.itemsize)\n"
   ]
  },
  {
   "cell_type": "code",
   "execution_count": 33,
   "metadata": {},
   "outputs": [
    {
     "data": {
      "text/plain": [
       "array([ 1,  2,  3,  4,  5,  6,  7,  8,  9, 10])"
      ]
     },
     "execution_count": 33,
     "metadata": {},
     "output_type": "execute_result"
    }
   ],
   "source": [
    "# INDEXADO Y ACCESO\n",
    "\n",
    "rango= range(1,11)\n",
    "np_numeros=np.array(rango)\n",
    "np_numeros"
   ]
  },
  {
   "cell_type": "code",
   "execution_count": 35,
   "metadata": {},
   "outputs": [
    {
     "data": {
      "text/plain": [
       "10"
      ]
     },
     "execution_count": 35,
     "metadata": {},
     "output_type": "execute_result"
    }
   ],
   "source": [
    "#acceso por indice\n",
    "np_numeros[3]\n",
    "# si pongo el -1 arranca por el ultimo y asi sucesivamente\n",
    " \n",
    "np_numeros[-1]"
   ]
  },
  {
   "cell_type": "code",
   "execution_count": 39,
   "metadata": {},
   "outputs": [
    {
     "data": {
      "text/plain": [
       "array([ 6,  7,  8,  9, 10])"
      ]
     },
     "execution_count": 39,
     "metadata": {},
     "output_type": "execute_result"
    }
   ],
   "source": [
    "# desde 0 a 3-1\n",
    "np_numeros[:3]\n",
    "# desde indice cero a 8 con paso2\n",
    "# seria slicing\n",
    "np_numeros[:8:]\n",
    "np_numeros[-5::] # los cinco ultimo ()"
   ]
  },
  {
   "attachments": {},
   "cell_type": "markdown",
   "metadata": {},
   "source": []
  },
  {
   "cell_type": "code",
   "execution_count": 41,
   "metadata": {},
   "outputs": [
    {
     "data": {
      "text/plain": [
       "array([[[1, 2, 2, 8],\n",
       "        [6, 5, 6, 2],\n",
       "        [0, 8, 8, 9]],\n",
       "\n",
       "       [[3, 1, 5, 9],\n",
       "        [3, 5, 1, 8],\n",
       "        [0, 7, 3, 4]],\n",
       "\n",
       "       [[2, 1, 8, 3],\n",
       "        [5, 4, 0, 5],\n",
       "        [0, 9, 0, 4]]])"
      ]
     },
     "execution_count": 41,
     "metadata": {},
     "output_type": "execute_result"
    }
   ],
   "source": [
    "#Arrays 3d 3 matrices de 3*4\n",
    "np_3d=np.random.randint(10, size=(3,3,4))\n",
    "np_3d"
   ]
  },
  {
   "cell_type": "code",
   "execution_count": 45,
   "metadata": {},
   "outputs": [
    {
     "name": "stdout",
     "output_type": "stream",
     "text": [
      "5\n"
     ]
    }
   ],
   "source": [
    "np_3d[1,1,1]\n",
    "print(np_3d[1,1,1])"
   ]
  },
  {
   "cell_type": "code",
   "execution_count": 46,
   "metadata": {},
   "outputs": [
    {
     "data": {
      "text/plain": [
       "array([ 1,  2,  3,  4,  5,  6,  7,  8,  9, 10])"
      ]
     },
     "execution_count": 46,
     "metadata": {},
     "output_type": "execute_result"
    }
   ],
   "source": [
    "np_numeros"
   ]
  },
  {
   "cell_type": "code",
   "execution_count": 47,
   "metadata": {},
   "outputs": [
    {
     "data": {
      "text/plain": [
       "array([1, 2, 3, 4, 5])"
      ]
     },
     "execution_count": 47,
     "metadata": {},
     "output_type": "execute_result"
    }
   ],
   "source": [
    "np_numeros[0:5]  # es = a np_numeros[:5] "
   ]
  },
  {
   "cell_type": "code",
   "execution_count": 58,
   "metadata": {},
   "outputs": [
    {
     "data": {
      "text/plain": [
       "array([[ 1,  2,  3,  4,  5,  6,  7,  8],\n",
       "       [ 9, 10, 11, 12, 13, 14, 15, 16],\n",
       "       [17, 18, 19, 20, 21, 22, 23, 24],\n",
       "       [25, 26, 27, 28, 29, 30, 31, 32],\n",
       "       [33, 34, 35, 36, 37, 38, 39, 40],\n",
       "       [41, 42, 43, 44, 45, 46, 47, 48],\n",
       "       [49, 50, 51, 52, 53, 54, 55, 56],\n",
       "       [57, 58, 59, 60, 61, 62, 63, 64]])"
      ]
     },
     "execution_count": 58,
     "metadata": {},
     "output_type": "execute_result"
    }
   ],
   "source": [
    "import numpy as np\n",
    "#reshape\n",
    "#La función reshape es una operación que se utiliza en numpy para cambiar la forma (shape)\n",
    "# de un arreglo multidimensional sin alterar los datos contenidos en él. Permite reorganizar los elementos \n",
    "# del arreglo en una nueva estructura especificada por las dimensiones deseadas.\n",
    "#Ejemplo\n",
    "# la ajederez tiene 8 *8 , la matriz de abajo da 64 (1*(65-1)) el reshape lo que hace es hacerlo 8*8\n",
    "\n",
    "np.arange(65)\n",
    "# ojo siempre tiene que ser del mismo tamaño \n",
    "ajedrez=np.arange(1,65).reshape(8,8)\n",
    "ajedrez"
   ]
  },
  {
   "cell_type": "code",
   "execution_count": 60,
   "metadata": {},
   "outputs": [
    {
     "name": "stdout",
     "output_type": "stream",
     "text": [
      "[547 477 770 881  15 365 706 325]\n",
      "[992 938 482 680 679 871  25 629]\n",
      "[514  47 810 863 398  75 767 360]\n"
     ]
    }
   ],
   "source": [
    "ar1=np.random.randint(1000,size=8)\n",
    "ar2=np.random.randint(1000,size=8)\n",
    "ar3=np.random.randint(1000,size=8)\n",
    "print(ar1)\n",
    "print(ar2)\n",
    "print(ar3)"
   ]
  },
  {
   "cell_type": "code",
   "execution_count": 61,
   "metadata": {},
   "outputs": [
    {
     "data": {
      "text/plain": [
       "array([547, 477, 770, 881,  15, 365, 706, 325, 992, 938, 482, 680, 679,\n",
       "       871,  25, 629, 514,  47, 810, 863, 398,  75, 767, 360])"
      ]
     },
     "execution_count": 61,
     "metadata": {},
     "output_type": "execute_result"
    }
   ],
   "source": [
    "#Concatenacion de arreglos con concate los hace uno al lado del otro\n",
    "array_concatenados=np.concatenate([ar1,ar2,ar3])\n",
    "array_concatenados"
   ]
  },
  {
   "cell_type": "code",
   "execution_count": 63,
   "metadata": {},
   "outputs": [
    {
     "data": {
      "text/plain": [
       "array([547, 477, 770, 881,  15, 365, 706, 325, 992, 938, 482, 680, 679,\n",
       "       871,  25, 629, 514,  47, 810, 863, 398,  75, 767, 360])"
      ]
     },
     "execution_count": 63,
     "metadata": {},
     "output_type": "execute_result"
    }
   ],
   "source": [
    "# apilados vertical u horizontal \n",
    "#array_apilados=np.vstack([ar1,ar2,ar3])\n",
    "array_apilados=np.hstack([ar1,ar2,ar3])\n",
    "array_apilados"
   ]
  },
  {
   "cell_type": "code",
   "execution_count": 64,
   "metadata": {},
   "outputs": [
    {
     "data": {
      "text/plain": [
       "array([547, 477, 770, 881,  15, 365, 706, 325, 992, 938, 482, 680, 679,\n",
       "       871,  25, 629, 514,  47, 810, 863, 398,  75, 767, 360])"
      ]
     },
     "execution_count": 64,
     "metadata": {},
     "output_type": "execute_result"
    }
   ],
   "source": [
    "array_concatenados=np.concatenate([ar1,ar2,ar3],axis=0)# cero concatena por filas \n",
    "# array_concatenados=np.concatenate([ar1,ar2,ar3],axis=1)# cero concatena por columnas \n",
    "array_concatenados"
   ]
  },
  {
   "cell_type": "code",
   "execution_count": 77,
   "metadata": {},
   "outputs": [
    {
     "data": {
      "text/plain": [
       "[array([547, 477, 770, 881,  15, 365]),\n",
       " array([706, 325, 992, 938, 482, 680, 679, 871,  25, 629, 514,  47, 810,\n",
       "        863, 398,  75, 767, 360])]"
      ]
     },
     "execution_count": 77,
     "metadata": {},
     "output_type": "execute_result"
    }
   ],
   "source": [
    "array_concatenados\n",
    "#a un nuevo array le asigno split, el cual le paso como parametro un arreglo y el indice donde los divide\n",
    "# del 0 posicion -1 un arreglo, de la posicion al final otro arreglo da como resultado\n",
    "array_partido=np.split(array_concatenados,[6])\n",
    "array_partido"
   ]
  },
  {
   "cell_type": "code",
   "execution_count": 4,
   "metadata": {},
   "outputs": [
    {
     "data": {
      "text/plain": [
       "array([706, 614,  48, ..., 999, 455, 581])"
      ]
     },
     "execution_count": 4,
     "metadata": {},
     "output_type": "execute_result"
    }
   ],
   "source": [
    "#Operaciones vectorizadas\n",
    "import numpy as np\n",
    "array_aleatorios=np.random.randint(1000,size=100000000)\n",
    "array_aleatorios"
   ]
  },
  {
   "cell_type": "code",
   "execution_count": 79,
   "metadata": {},
   "outputs": [
    {
     "data": {
      "text/plain": [
       "100000000"
      ]
     },
     "execution_count": 79,
     "metadata": {},
     "output_type": "execute_result"
    }
   ],
   "source": [
    "# tamaño del array\n",
    "len(array_aleatorios)"
   ]
  },
  {
   "cell_type": "code",
   "execution_count": 11,
   "metadata": {},
   "outputs": [
    {
     "name": "stderr",
     "output_type": "stream",
     "text": [
      "UsageError: Line magic function `%%time` not found.\n"
     ]
    }
   ],
   "source": [
    "import pandas as pd\n",
    "import numpy as np\n",
    "import time\n",
    "#operaciones \n",
    "\n",
    "#Promedios de eleemtnos del arreglos\n",
    "\n",
    "%%time\n",
    "suma=0\n",
    "for i in array_aleatorios:\n",
    "    suma+=i\n",
    "promedio=suma/len(array_aleatorios)\n",
    "print(promedio)"
   ]
  },
  {
   "cell_type": "code",
   "execution_count": 13,
   "metadata": {},
   "outputs": [
    {
     "name": "stdout",
     "output_type": "stream",
     "text": [
      "CPU times: total: 156 ms\n",
      "Wall time: 147 ms\n"
     ]
    },
    {
     "data": {
      "text/plain": [
       "499.57524388"
      ]
     },
     "execution_count": 13,
     "metadata": {},
     "output_type": "execute_result"
    }
   ],
   "source": [
    "%%time\n",
    "array_aleatorios.mean()"
   ]
  },
  {
   "attachments": {},
   "cell_type": "markdown",
   "metadata": {},
   "source": []
  },
  {
   "cell_type": "code",
   "execution_count": 15,
   "metadata": {},
   "outputs": [
    {
     "data": {
      "text/plain": [
       "83336.02423905837"
      ]
     },
     "execution_count": 15,
     "metadata": {},
     "output_type": "execute_result"
    }
   ],
   "source": [
    "# las operaciones vectorizadas son mucho mejor, porque se optimiza el tiempo, antes que hacerlo con un ciclo FOR\n",
    "#array_aleatorios.min() MINIMO\n",
    "#array_aleatorios.max() maximo\n",
    "#array_aleatorios.sum() suma\n",
    "#np.median(array_aleatorios) mediana\n",
    "#np.std(array_aleatorios)desviacion\n",
    "np.var(array_aleatorios) #varianza"
   ]
  },
  {
   "cell_type": "code",
   "execution_count": null,
   "metadata": {},
   "outputs": [],
   "source": []
  }
 ],
 "metadata": {
  "kernelspec": {
   "display_name": "Python 3",
   "language": "python",
   "name": "python3"
  },
  "language_info": {
   "codemirror_mode": {
    "name": "ipython",
    "version": 3
   },
   "file_extension": ".py",
   "mimetype": "text/x-python",
   "name": "python",
   "nbconvert_exporter": "python",
   "pygments_lexer": "ipython3",
   "version": "3.11.1"
  },
  "orig_nbformat": 4
 },
 "nbformat": 4,
 "nbformat_minor": 2
}
